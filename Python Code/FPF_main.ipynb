{
 "cells": [
  {
   "cell_type": "markdown",
   "metadata": {
    "collapsed": true
   },
   "source": [
    "### FPF Gain approximation code"
   ]
  },
  {
   "cell_type": "code",
   "execution_count": 1,
   "metadata": {},
   "outputs": [],
   "source": [
    "import numpy as np\n",
    "from sympy import *\n",
    "from scipy.spatial.distance import pdist,squareform\n",
    "from scipy.stats import norm\n",
    "import scipy.integrate as integrate\n",
    "\n",
    "import pandas as pd\n",
    "import math\n",
    "\n",
    "from timeit import default_timer as timer\n",
    "\n",
    "import matplotlib.pyplot as plt\n",
    "import seaborn as sns\n",
    "from sklearn.linear_model import ridge\n",
    "%matplotlib inline"
   ]
  },
  {
   "cell_type": "code",
   "execution_count": 2,
   "metadata": {},
   "outputs": [],
   "source": [
    "x = Symbol('x')"
   ]
  },
  {
   "cell_type": "markdown",
   "metadata": {},
   "source": [
    "#### Function that multiplies c and p\n",
    "#### output = $c(x)\\rho(x)$"
   ]
  },
  {
   "cell_type": "code",
   "execution_count": 79,
   "metadata": {},
   "outputs": [],
   "source": [
    "def cp(c,p,x):\n",
    "    cp_vec = lambdify(Symbol('x'), c*p, 'numpy')\n",
    "    return cp_vec(x)"
   ]
  },
  {
   "cell_type": "markdown",
   "metadata": {},
   "source": [
    "#### Function to generate samples from a multi-dimensional 1d- Gaussian mixture $\\times$  (d-1) independnt Gaussian distribution "
   ]
  },
  {
   "cell_type": "code",
   "execution_count": 3,
   "metadata": {},
   "outputs": [],
   "source": [
    "def get_samples(mu, sigma, w, dim, N):\n",
    "    Xi  = np.zeros((N,dim))\n",
    "    for i in range(N):\n",
    "        if np.random.uniform() <= w[0]:\n",
    "            Xi[i,0] = mu[0]  + sigma[0] * np.random.normal()\n",
    "        else:\n",
    "            Xi[i,0]  = mu[1]  + sigma[1] * np.random.normal()\n",
    "        for d in range(1, dim):\n",
    "            Xi[i,d] = np.random.normal()\n",
    "    return Xi"
   ]
  },
  {
   "cell_type": "markdown",
   "metadata": {},
   "source": [
    "#### Function to approximate FPF gain using subspace RKHS method"
   ]
  },
  {
   "cell_type": "code",
   "execution_count": 4,
   "metadata": {},
   "outputs": [],
   "source": [
    "def gain_rkhs_N(Xi, C, epsilon, Lambda, diag = 0):\n",
    "    start = timer()\n",
    "    \n",
    "    N = len(Xi)\n",
    "    K = np.zeros(N)\n",
    "    Ker_x = np.array(np.zeros((N,N)))\n",
    "    Ker_xy = np.array(np.zeros((N,N)))\n",
    "    \n",
    "    Ker = np.exp(- squareform(pdist(Xi,'euclidean'))**2/ (4 * epsilon))\n",
    "    \n",
    "    for i in range(N):\n",
    "        for j in range(N):\n",
    "            Ker_x[i,j] = -(Xi[i]-Xi[j]) * Ker[i,j] / (2 * epsilon)\n",
    "    \n",
    "    eta = np.mean(C)\n",
    "    Y = (C -eta)\n",
    "    \n",
    "    b_m = (1/ N) * np.dot(Ker,Y)\n",
    "    M_m = Lambda * Ker + (1/ N) * np.matmul(Ker_x, Ker_x.transpose())\n",
    "    beta_m = np.linalg.solve(M_m,b_m)\n",
    "    \n",
    "    K = np.zeros(N)\n",
    "    for i in range(N):\n",
    "        for j in range(N):\n",
    "            K[i] = K[i] + beta_m[j] * Ker_x[i,j]\n",
    "            \n",
    "    if diag == 1:\n",
    "        plt.figure()\n",
    "        plt.plot(Xi, Ker[:,100],'r*')\n",
    "        plt.plot(Xi, Ker_x[:,100], 'b*')\n",
    "        plt.show()\n",
    "            \n",
    "    end = timer()\n",
    "    print('Time taken' , end - start)\n",
    "    \n",
    "    return K"
   ]
  },
  {
   "cell_type": "markdown",
   "metadata": {},
   "source": [
    "#### Function to approximate FPF gain using optimal RKHS method"
   ]
  },
  {
   "cell_type": "code",
   "execution_count": 5,
   "metadata": {},
   "outputs": [],
   "source": [
    "def gain_rkhs_2N(Xi, C, epsilon, Lambda, diag = 0):\n",
    "    start = timer()\n",
    "    \n",
    "    N = len(Xi)\n",
    "    K = np.zeros(N)\n",
    "    Ker_x = np.array(np.zeros((N,N)))\n",
    "    Ker_xy = np.array(np.zeros((N,N)))\n",
    "    \n",
    "    Ker = np.exp(- squareform(pdist(Xi,'euclidean'))**2/ (4 * epsilon))\n",
    "    for i in range(N):\n",
    "        for j in range(N):\n",
    "            Ker_x[i,j] = -(Xi[i]-Xi[j]) * Ker[i,j] / (2 * epsilon)\n",
    "            Ker_xy[i,j] = -(((Xi[i] - Xi[j])**2) / (2 * epsilon) -1) * Ker[i,j] / (2 * epsilon) # Negative of the second Gaussian derivative, as this is K_xy and not K_x2\n",
    "    \n",
    "    eta = np.mean(C)\n",
    "    Y = (C -eta)\n",
    "    \n",
    "    # Constructing block matrices for future use\n",
    "    # K_big      = [ Ker Ker_x ; Ker_x' Ker_x_y];\n",
    "    # K_thin_yxy = [ Ker_x ; Ker_x_y]; \n",
    "    # K_thin_x   = [ Ker ; Ker_x'];\n",
    "    K_big      = np.concatenate((np.concatenate((Ker,np.transpose(Ker_x)),axis = 1), np.concatenate((Ker_x, Ker_xy),axis =1)))\n",
    "    K_thin_yxy = np.concatenate((np.transpose(Ker_x), Ker_xy))\n",
    "    K_thin_xxy = np.concatenate((Ker_x,Ker_xy), axis = 1)\n",
    "    K_thin_x   = np.concatenate((Ker, Ker_x))\n",
    "    \n",
    "    # b used in the extended representer theorem algorithm - searching over all of the Hilbert space H\n",
    "    b_2m        = (1/N) * np.dot(K_thin_x, Y)\n",
    "    M_2m        = Lambda * K_big + (1/N) * np.matmul(K_thin_yxy, np.transpose(K_thin_yxy))\n",
    "    # M_2m        = Lambda * K_big + (1/N) * np.matmul(K_thin_yxy, K_thin_xxy)\n",
    "    beta_2m     = np.linalg.solve(M_2m, b_2m)   \n",
    "    \n",
    "    K = np.zeros(N)\n",
    "    for i in range(N):\n",
    "        for j in range(N):\n",
    "            K[i] = K[i] + beta_2m[j] * Ker_x[i,j] + beta_2m[N+j] * Ker_xy[i,j]\n",
    "            \n",
    "    if diag == 1:\n",
    "        plt.figure()\n",
    "        plt.plot(Xi, Ker[:,0],'r*')\n",
    "        plt.plot(Xi, Ker_x[:,0], 'b*')\n",
    "        plt.plot(Xi, Ker_xy[:,0],'k*')\n",
    "        plt.show()\n",
    "            \n",
    "    end = timer()\n",
    "    print('Time taken' , end - start)\n",
    "    \n",
    "    return K"
   ]
  },
  {
   "cell_type": "markdown",
   "metadata": {},
   "source": [
    "#### Function to compute the exact FPF gain"
   ]
  },
  {
   "cell_type": "code",
   "execution_count": 6,
   "metadata": {},
   "outputs": [],
   "source": [
    "def gain_exact(Xi, c, p, c_hat, diag = 0):\n",
    "    start = timer()\n",
    "    \n",
    "    N = len(Xi)\n",
    "    K = np.zeros(N)\n",
    "    integral = np.zeros(N)\n",
    "    \n",
    "    step = 0.01\n",
    "    xmax = max(mu) + 10\n",
    "    \n",
    "    p_vec = lambdify(x, p, 'numpy')\n",
    "    c_vec = lambdify(x, c, 'numpy')\n",
    "    H = c_vec(Xi)\n",
    "    \n",
    "    for i in range(N):\n",
    "        integral[i] = 0\n",
    "        for xj in np.arange(Xi[i], xmax + 10,  step):\n",
    "            integral[i] = integral[i] + p_vec(xj) * ( c_vec(xj) - c_hat) * step\n",
    "        K[i] = integral[i]/ p_vec(Xi[i])\n",
    "            \n",
    "    end = timer()\n",
    "    print('Time taken' , end - start)\n",
    "    return K"
   ]
  },
  {
   "cell_type": "markdown",
   "metadata": {},
   "source": [
    "#### Function to approximate FPF gain using Markov kernel approx. method"
   ]
  },
  {
   "cell_type": "code",
   "execution_count": 7,
   "metadata": {},
   "outputs": [],
   "source": [
    "def gain_coif(Xi, c, epsilon, Phi, diag = 0):\n",
    "    start = timer()\n",
    "    \n",
    "    N = len(Xi)\n",
    "    k = np.zeros((N,N))\n",
    "    K = np.zeros(N)\n",
    "    T = np.zeros((N,N))\n",
    "    Phi = np.zeros(N)\n",
    "    sum_term = np.zeros(N)\n",
    "    max_diff = 1\n",
    "    \n",
    "    No_iterations = 50000\n",
    "    iterations = 1\n",
    "    \n",
    "    c_vec = lambdify(x, c, 'numpy')\n",
    "    H   = c_vec(Xi)\n",
    "    \n",
    "    Ker = np.exp(- squareform(pdist(Xi,'euclidean'))**2/ (4 * epsilon))\n",
    "    for i in range(N):\n",
    "        for j in range(N):\n",
    "            k[i,j] = Ker[i,j] / (np.sqrt( (1/N) * sum(Ker[i,:])) * np.sqrt( (1/N)* sum(Ker[j,:])))\n",
    "        T[i,:] = np.divide(k[i,:], np.sum(k[i,:]))\n",
    "    \n",
    "    while((max_diff > 1e-2) & ( iterations < No_iterations )):\n",
    "        Phi_new = np.matmul(T,Phi) + (epsilon * np.concatenate(H)).transpose() \n",
    "        max_diff = max(Phi_new - Phi) - min(Phi_new - Phi)\n",
    "        Phi  = Phi_new\n",
    "        iterations += 1\n",
    "                           \n",
    "    for i in range(N):\n",
    "        sum_term[i] = np.dot( T[i,:], Xi)\n",
    "        K[i] = 0\n",
    "        for j in range(N):\n",
    "            K[i] = K[i] + (1/ (2 * epsilon)) * T[i,j] * Phi[j,] * (Xi[j] - sum_term[i]) \n",
    "                                               \n",
    "    if diag == 1:\n",
    "        plt.figure()\n",
    "        plt.plot(Xi, Ker[1,:], 'r*')\n",
    "        plt.show()\n",
    "    \n",
    "    end = timer()\n",
    "    print('Time taken' , end - start)\n",
    "    \n",
    "    return K"
   ]
  },
  {
   "cell_type": "markdown",
   "metadata": {},
   "source": [
    "#### Function to approximate FPF gain using RKHS OM method - Adds a Lagrangian parameter to make use of the constant gain approximation"
   ]
  },
  {
   "cell_type": "code",
   "execution_count": 8,
   "metadata": {},
   "outputs": [],
   "source": [
    "def gain_rkhs_om(Xi, C, epsilon, Lambda, diag = 0):\n",
    "    start = timer()\n",
    "    \n",
    "    N = len(Xi)\n",
    "    K = np.zeros(N)\n",
    "    Ker_x = np.array(np.zeros((N,N)))\n",
    "    Ker_xy = np.array(np.zeros((N,N)))\n",
    "    \n",
    "    Ker = np.exp(- squareform(pdist(Xi,'euclidean'))**2/ (4 * epsilon))\n",
    "    \n",
    "    for i in range(N):\n",
    "        for j in range(N):\n",
    "            Ker_x[i,j] = -(Xi[i]-Xi[j]) * Ker[i,j] / (2 * epsilon)\n",
    "            Ker_xy[i,j] = (((Xi[i] - Xi[j])**2) / (2 * epsilon) -1) * Ker[i,j] / (2 * epsilon)\n",
    "    Ker_x_ones = np.dot(np.ones((1,N)), Ker_x)\n",
    "   \n",
    "    eta = np.mean(C)\n",
    "    Y = (C -eta)\n",
    "    \n",
    "    K_hat = np.mean(Y * Xi)\n",
    "    \n",
    "    b_m = (1/ N) * np.dot(Ker,Y) - (1/ N) * np.transpose(Ker_x_ones) * K_hat \n",
    "    b_m = np.append(b_m, np.zeros((1,1)))\n",
    "    \n",
    "    M_m = Lambda * Ker + (1 / N) * np.matmul(Ker_x, Ker_x.transpose()) \n",
    "    M_m = np.vstack((M_m, (1/N) * Ker_x_ones))\n",
    "    M_m = np.hstack((M_m, np.transpose(np.append(Ker_x_ones,np.zeros((1,1)))).reshape(len(M_m),1)))\n",
    "    \n",
    "    beta_m = np.linalg.solve(M_m,b_m)\n",
    "    \n",
    "    K = np.zeros(N)\n",
    "    K.fill(K_hat)\n",
    "    for i in range(N):\n",
    "        for j in range(N):\n",
    "            K[i] = K[i] + beta_m[j] * Ker_x[i,j]\n",
    "            \n",
    "    if diag == 1:\n",
    "        plt.figure()\n",
    "        plt.plot(Xi, Ker[:,0],'r*')\n",
    "        plt.plot(Xi, Ker_x[:,0], 'b*')\n",
    "        plt.plot(Xi, Ker_xy[:,0],'k*')\n",
    "        plt.show()\n",
    "            \n",
    "    end = timer()\n",
    "    print('Time taken' , end - start)\n",
    "    \n",
    "    return K"
   ]
  },
  {
   "cell_type": "markdown",
   "metadata": {},
   "source": [
    "#### Function to compute the mean square error in gain function approximation"
   ]
  },
  {
   "cell_type": "code",
   "execution_count": 9,
   "metadata": {},
   "outputs": [],
   "source": [
    "def mean_squared_error(K_exact, K_approx, p):\n",
    "    N = len(K_exact)\n",
    "    p_vec = lambdify(x, p, 'numpy')\n",
    "    mse = (1/N) * np.linalg.norm(K_exact - K_approx)**2\n",
    "    # mse2 = np.sum(((K_exact - K_approx)**2) *np.concatenate(p_vec(Xi)))\n",
    "    return mse"
   ]
  },
  {
   "cell_type": "markdown",
   "metadata": {},
   "source": [
    "#### Main code execution"
   ]
  },
  {
   "cell_type": "code",
   "execution_count": 97,
   "metadata": {
    "scrolled": true
   },
   "outputs": [
    {
     "name": "stdout",
     "output_type": "stream",
     "text": [
      "0\n",
      "Time taken 13.828681616843824\n",
      "Time taken 49.24107437742259\n",
      "Time taken 1.9854388263202054\n",
      "Time taken 5.289458339193516\n",
      "Time taken 3.532571233523413\n",
      "MSE for Markov kernel approx 0.11322731345123371\n",
      "MSE for RKHS N 0.08055386236766338\n",
      "MSE for RKHS 2N 0.0805538606899042\n",
      "MSE for RKHS OM 0.07674921512440361\n"
     ]
    },
    {
     "data": {
      "image/png": "[encoded data removed]",
      "text/plain": [
       "<Figure size 432x288 with 2 Axes>"
      ]
     },
     "metadata": {},
     "output_type": "display_data"
    }
   ],
   "source": [
    "if __name__ == '__main__':\n",
    "    \n",
    "    ## Flags to be set to choose which methods to compare\n",
    "\n",
    "    exact  = 1      # Computes the exact gain and plots \n",
    "    coif   = 1      # Computes gain using Coifman kernel method\n",
    "    rkhs_N = 1      # Computes gain using subspace of RKHS\n",
    "    rkhs_2N= 1      # Computes optimal gain using RKHS \n",
    "    om     = 1      # Computes gain using RKHS enforcing constant gain constraint\n",
    "    memory = 0      # Computes gain using RKHS with a memory parameter for previous gain\n",
    "    om_mem = 0      # Computes gain using const gain approx and a memory parameter for previous gain\n",
    "    const  = 0      # Computes the constant gain approximation\n",
    "    kalman = 0      # Runs Kalman Filter for comparison\n",
    "    sis    = 0      # Runs Sequential Importance Sampling Particle Filter \n",
    "\n",
    "    # Run parameters\n",
    "    No_runs = 1\n",
    "    \n",
    "    # FPF parameters - No. of particles\n",
    "    N = 500\n",
    "    \n",
    "    # System parameters\n",
    "    dim = 1     # dimension of the system\n",
    "    c = sin(x)       # Observation function\n",
    "    c_vec = lambdify(x, c, 'numpy')\n",
    "        \n",
    "    # Parameters of the prior density p(0) - 2 component Gaussian mixture density\n",
    "    m = 2      # No of components in the Gaussian mixture\n",
    "    sigma = [0.4, 0.4]\n",
    "    mu  = [-1, 1]\n",
    "    w   = [0.5, 0.5]\n",
    "    w[-1] = 1 - sum(w[:-1])\n",
    "    p = 0\n",
    "    mu_eq = 0  # Equivalent mean of the density p\n",
    "    for m in range(len(w)):\n",
    "        p = p + w[m] * (1/ np.sqrt(2 * math.pi * sigma[m]**2))* exp(-(x - mu[m])**2/ (2* sigma[m]**2))\n",
    "    p_vec = lambdify(x, p, 'numpy')\n",
    "    \n",
    "    mse_coif = np.zeros(No_runs)\n",
    "    mse_rkhs_N = np.zeros(No_runs)\n",
    "    mse_rkhs_2N = np.zeros(No_runs)\n",
    "    mse_om   = np.zeros(No_runs)\n",
    "    for run in range(No_runs):\n",
    "        print(run)\n",
    "        Xi  = get_samples(mu, sigma, w, dim, N)\n",
    "        C   = c_vec(Xi)\n",
    "# To check consistency with Matlab code output - using the same samples \n",
    "#         Xi = np.loadtxt('Xi.txt')\n",
    "#         Xi = np.sort(Xi,kind = 'mergesort')\n",
    "#         Xi = np.reshape(Xi,(-1,1))\n",
    "#         plt.figure()\n",
    "#         sns.distplot(Xi)\n",
    "#         plt.show()\n",
    "\n",
    "        if exact == 1:\n",
    "            # c_hat = mu_eq   # True only for c = x, linear function\n",
    "            cp_func = lambda x: cp(c, p, x)\n",
    "            c_hat = integrate.quad(cp_func, -np.inf, np.inf)[0]\n",
    "            K_exact  = gain_exact(Xi, c, p, c_hat, diag = 0)\n",
    "\n",
    "        if coif ==1:\n",
    "            eps_coif = 0.1\n",
    "            Phi = np.zeros(N)\n",
    "            K_coif = gain_coif(Xi, C, eps_coif, Phi, diag = 0)\n",
    "            if exact == 1:\n",
    "                mse_coif[run] = mean_squared_error(K_exact, K_coif, p)\n",
    "\n",
    "        if rkhs_N == 1:\n",
    "            eps_rkhs_N = 0.1\n",
    "            Lambda_rkhs_N = 1e-3\n",
    "            K_rkhs_N = gain_rkhs_N(Xi, C, eps_rkhs_N, Lambda_rkhs_N, diag = 0)\n",
    "            if exact == 1:\n",
    "                mse_rkhs_N[run] = mean_squared_error(K_exact, K_rkhs_N, p)\n",
    "\n",
    "        if rkhs_2N == 1:\n",
    "            eps_rkhs_2N = 0.1\n",
    "            Lambda_rkhs_2N = 1e-3\n",
    "            K_rkhs_2N = gain_rkhs_2N(Xi, C, eps_rkhs_2N, Lambda_rkhs_2N, diag = 0)\n",
    "            if exact == 1:\n",
    "                mse_rkhs_2N[run] = mean_squared_error(K_exact, K_rkhs_2N, p)\n",
    "\n",
    "        if om == 1:\n",
    "            eps_om = 0.1\n",
    "            Lambda_om = 1e-3\n",
    "            K_om = gain_rkhs_om(Xi, C, eps_om, Lambda_om, diag = 0)\n",
    "            if exact == 1:\n",
    "                mse_om[run] = mean_squared_error(K_exact, K_om, p)\n",
    "    \n",
    "    if exact == 1 & coif == 1:\n",
    "        print('MSE for Markov kernel approx', np.mean(mse_coif))\n",
    "    if exact == 1 & rkhs_N == 1:\n",
    "        print('MSE for RKHS N', np.mean(mse_rkhs_N))\n",
    "    if exact == 1 & rkhs_2N == 1:\n",
    "        print('MSE for RKHS 2N', np.mean(mse_rkhs_2N))\n",
    "    if exact == 1 & om == 1:\n",
    "        print('MSE for RKHS OM', np.mean(mse_om))\n",
    "    \n",
    "    ### Displaying the plots\n",
    "    fig,ax1 = plt.subplots()\n",
    "    if exact == 1:\n",
    "        ax1.plot(Xi, K_exact, 'b^', markersize = 2, label ='Exact gain')\n",
    "    if rkhs_N == 1:\n",
    "        ax1.plot(Xi, K_rkhs_N, 'r*', markersize =2, label = 'RKHS approx. N')\n",
    "    if rkhs_2N == 1:\n",
    "        ax1.plot(Xi, K_rkhs_2N, 'cs', markersize =2, label = 'RKHS approx. 2N')\n",
    "    if coif == 1:\n",
    "        ax1.plot(Xi, K_coif, 'g.', markersize = 2, label ='Markov kernel approx.')\n",
    "    if om == 1:\n",
    "        ax1.plot(Xi, K_om, 'm*', markersize = 2, label = 'RKHS OM')\n",
    "    ax2 =ax1.twinx()\n",
    "    ax2.plot(np.arange(-2,2,0.01), p_vec(np.arange(-2,2,0.01)),'k.-', markersize =1, label = 'p(x)')\n",
    "    ax2.set_ylabel('p(x)')\n",
    "    ax2.legend(loc=1)\n",
    "    ax1.set_xlabel('Particle Locations')\n",
    "    ax1.set_ylabel('Gain K(x)')\n",
    "    ax1.legend()\n",
    "    plt.xticks(rotation = 45)\n",
    "    plt.tight_layout()\n",
    "    plt.show()     "
   ]
  },
  {
   "cell_type": "code",
   "execution_count": 11,
   "metadata": {},
   "outputs": [
    {
     "data": {
      "text/plain": [
       "array([0.24481732])"
      ]
     },
     "execution_count": 11,
     "metadata": {},
     "output_type": "execute_result"
    }
   ],
   "source": [
    "mse_rkhs_2N"
   ]
  },
  {
   "cell_type": "code",
   "execution_count": 12,
   "metadata": {},
   "outputs": [
    {
     "data": {
      "text/plain": [
       "array([0.24481734])"
      ]
     },
     "execution_count": 12,
     "metadata": {},
     "output_type": "execute_result"
    }
   ],
   "source": [
    "mse_rkhs_N"
   ]
  },
  {
   "cell_type": "code",
   "execution_count": 13,
   "metadata": {},
   "outputs": [
    {
     "data": {
      "text/plain": [
       "array([0.12982138])"
      ]
     },
     "execution_count": 13,
     "metadata": {},
     "output_type": "execute_result"
    }
   ],
   "source": [
    "mse_coif"
   ]
  },
  {
   "cell_type": "markdown",
   "metadata": {},
   "source": [
    "### Rough trials"
   ]
  },
  {
   "cell_type": "code",
   "execution_count": 14,
   "metadata": {},
   "outputs": [
    {
     "data": {
      "text/plain": [
       "x"
      ]
     },
     "execution_count": 14,
     "metadata": {},
     "output_type": "execute_result"
    }
   ],
   "source": [
    "c"
   ]
  },
  {
   "cell_type": "code",
   "execution_count": 15,
   "metadata": {
    "scrolled": true
   },
   "outputs": [
    {
     "data": {
      "text/plain": [
       "0.498677850501791*exp(-3.125*(x + 1)**2) + 0.498677850501791*exp(-3.125*(x - 1)**2)"
      ]
     },
     "execution_count": 15,
     "metadata": {},
     "output_type": "execute_result"
    }
   ],
   "source": [
    "p"
   ]
  },
  {
   "cell_type": "code",
   "execution_count": 38,
   "metadata": {},
   "outputs": [
    {
     "data": {
      "text/plain": [
       "x*(0.498677850501791*exp(-3.125*(x + 1)**2) + 0.498677850501791*exp(-3.125*(x - 1)**2))"
      ]
     },
     "execution_count": 38,
     "metadata": {},
     "output_type": "execute_result"
    }
   ],
   "source": [
    "c * p"
   ]
  },
  {
   "cell_type": "code",
   "execution_count": 47,
   "metadata": {},
   "outputs": [],
   "source": [
    "f = lambda x:  x * (0.498677850501791*exp(-3.125*(x + 1)**2) + 0.498677850501791*exp(-3.125*(x - 1)**2))"
   ]
  },
  {
   "cell_type": "code",
   "execution_count": 21,
   "metadata": {},
   "outputs": [],
   "source": [
    "expf = lambda x:"
   ]
  },
  {
   "cell_type": "code",
   "execution_count": 22,
   "metadata": {},
   "outputs": [
    {
     "data": {
      "text/plain": [
       "<function __main__.<lambda>(x)>"
      ]
     },
     "execution_count": 22,
     "metadata": {},
     "output_type": "execute_result"
    }
   ],
   "source": [
    "expf"
   ]
  },
  {
   "cell_type": "code",
   "execution_count": 27,
   "metadata": {},
   "outputs": [
    {
     "data": {
      "text/plain": [
       "(0.6321205588285578, 7.017947987503856e-15)"
      ]
     },
     "execution_count": 27,
     "metadata": {},
     "output_type": "execute_result"
    }
   ],
   "source": [
    "integrate.quad(expf, 0, 1)"
   ]
  },
  {
   "cell_type": "code",
   "execution_count": 48,
   "metadata": {},
   "outputs": [
    {
     "data": {
      "text/plain": [
       "(0.0, 0.0)"
      ]
     },
     "execution_count": 48,
     "metadata": {},
     "output_type": "execute_result"
    }
   ],
   "source": [
    "integrate.quad(f,-np.inf,np.inf)"
   ]
  },
  {
   "cell_type": "code",
   "execution_count": 41,
   "metadata": {},
   "outputs": [],
   "source": [
    "f2 = lambda x: c*p"
   ]
  },
  {
   "cell_type": "code",
   "execution_count": 54,
   "metadata": {},
   "outputs": [],
   "source": [
    "cp_vec = lambdify(x, c, 'numpy')"
   ]
  },
  {
   "cell_type": "code",
   "execution_count": 55,
   "metadata": {},
   "outputs": [
    {
     "data": {
      "text/plain": [
       "0.034099187076719065"
      ]
     },
     "execution_count": 55,
     "metadata": {},
     "output_type": "execute_result"
    }
   ],
   "source": [
    "np.mean(cp_vec(Xi))"
   ]
  },
  {
   "cell_type": "code",
   "execution_count": 80,
   "metadata": {},
   "outputs": [],
   "source": [
    "f = lambda x: cp(c,p,x)"
   ]
  }
 ],
 "metadata": {
  "kernelspec": {
   "display_name": "Python 3",
   "language": "python",
   "name": "python3"
  },
  "language_info": {
   "codemirror_mode": {
    "name": "ipython",
    "version": 3
   },
   "file_extension": ".py",
   "mimetype": "text/x-python",
   "name": "python",
   "nbconvert_exporter": "python",
   "pygments_lexer": "ipython3",
   "version": "3.6.5"
  }
 },
 "nbformat": 4,
 "nbformat_minor": 2
}
