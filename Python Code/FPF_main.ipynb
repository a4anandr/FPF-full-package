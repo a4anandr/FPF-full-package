{
 "cells": [
  {
   "cell_type": "markdown",
   "metadata": {
    "collapsed": true
   },
   "source": [
    "### FPF Gain approximation code"
   ]
  },
  {
   "cell_type": "code",
   "execution_count": 1,
   "metadata": {},
   "outputs": [],
   "source": [
    "import numpy as np\n",
    "from sympy import *\n",
    "from scipy.spatial.distance import pdist,squareform\n",
    "from scipy.stats import norm\n",
    "import scipy.integrate as integrate\n",
    "\n",
    "import pandas as pd\n",
    "import math\n",
    "\n",
    "from timeit import default_timer as timer\n",
    "\n",
    "import matplotlib.pyplot as plt\n",
    "import seaborn as sns\n",
    "from sklearn.linear_model import ridge\n",
    "%matplotlib inline"
   ]
  },
  {
   "cell_type": "code",
   "execution_count": 2,
   "metadata": {},
   "outputs": [],
   "source": [
    "x = Symbol('x')"
   ]
  },
  {
   "cell_type": "markdown",
   "metadata": {},
   "source": [
    "#### Function to approximate FPF gain using subspace RKHS method"
   ]
  },
  {
   "cell_type": "code",
   "execution_count": 3,
   "metadata": {},
   "outputs": [],
   "source": [
    "def gain_rkhs_N(Xi, c, epsilon, Lambda, diag = 0):\n",
    "    start = timer()\n",
    "    \n",
    "    N = len(Xi)\n",
    "    K = np.zeros(N)\n",
    "    Ker_x = np.array(np.zeros((N,N)))\n",
    "    Ker_xy = np.array(np.zeros((N,N)))\n",
    "    \n",
    "    Ker = np.exp(- squareform(pdist(Xi,'euclidean'))**2/ (4 * epsilon))\n",
    "    \n",
    "    for i in range(N):\n",
    "        for j in range(N):\n",
    "            Ker_x[i,j] = -(Xi[i]-Xi[j]) * Ker[i,j] / (2 * epsilon)\n",
    "    \n",
    "    c_vec = lambdify(x, c, 'numpy')\n",
    "    H = c_vec(Xi)\n",
    "    eta = np.mean(H)\n",
    "    Y = (H -eta)\n",
    "    \n",
    "    b_m = (1/ N) * np.dot(Ker,Y)\n",
    "    M_m = Lambda * Ker + (1/ N) * np.matmul(Ker_x, Ker_x.transpose())\n",
    "    beta_m = np.linalg.solve(M_m,b_m)\n",
    "    \n",
    "    K = np.zeros(N)\n",
    "    for i in range(N):\n",
    "        for j in range(N):\n",
    "            K[i] = K[i] + beta_m[j] * Ker_x[i,j]\n",
    "            \n",
    "    if diag == 1:\n",
    "        plt.figure()\n",
    "        plt.plot(Xi, Ker[:,100],'r*')\n",
    "        plt.plot(Xi, Ker_x[:,100], 'b*')\n",
    "        plt.show()\n",
    "            \n",
    "    end = timer()\n",
    "    print('Time taken' , end - start)\n",
    "    \n",
    "    return K"
   ]
  },
  {
   "cell_type": "markdown",
   "metadata": {},
   "source": [
    "#### Function to approximate FPF gain using optimal RKHS method"
   ]
  },
  {
   "cell_type": "code",
   "execution_count": 4,
   "metadata": {},
   "outputs": [],
   "source": [
    "def gain_rkhs_2N(Xi, c, epsilon, Lambda, diag = 0):\n",
    "    start = timer()\n",
    "    \n",
    "    N = len(Xi)\n",
    "    K = np.zeros(N)\n",
    "    Ker_x = np.array(np.zeros((N,N)))\n",
    "    Ker_xy = np.array(np.zeros((N,N)))\n",
    "    \n",
    "    Ker = np.exp(- squareform(pdist(Xi,'euclidean'))**2/ (4 * epsilon))\n",
    "    for i in range(N):\n",
    "        for j in range(N):\n",
    "            Ker_x[i,j] = -(Xi[i]-Xi[j]) * Ker[i,j] / (2 * epsilon)\n",
    "            Ker_xy[i,j] = -(((Xi[i] - Xi[j])**2) / (2 * epsilon) -1) * Ker[i,j] / (2 * epsilon) # Negative of the second Gaussian derivative, as this is K_xy and not K_x2\n",
    "    \n",
    "    c_vec = lambdify(x, c, 'numpy')\n",
    "    H = c_vec(Xi)\n",
    "    eta = np.mean(H)\n",
    "    Y = (H -eta)\n",
    "    \n",
    "    # Constructing block matrices for future use\n",
    "    # K_big      = [ Ker Ker_x ; Ker_x' Ker_x_y];\n",
    "    # K_thin_yxy = [ Ker_x ; Ker_x_y]; \n",
    "    # K_thin_x   = [ Ker ; Ker_x'];\n",
    "    K_big      = np.concatenate((np.concatenate((Ker,np.transpose(Ker_x)),axis = 1), np.concatenate((Ker_x, Ker_xy),axis =1)))\n",
    "    K_thin_yxy = np.concatenate((np.transpose(Ker_x), Ker_xy))\n",
    "    K_thin_xxy = np.concatenate((Ker_x,Ker_xy), axis = 1)\n",
    "    K_thin_x   = np.concatenate((Ker, Ker_x))\n",
    "    \n",
    "    # b used in the extended representer theorem algorithm - searching over all of the Hilbert space H\n",
    "    b_2m        = (1/N) * np.dot(K_thin_x, Y)\n",
    "    M_2m        = Lambda * K_big + (1/N) * np.matmul(K_thin_yxy, np.transpose(K_thin_yxy))\n",
    "    # M_2m        = Lambda * K_big + (1/N) * np.matmul(K_thin_yxy, K_thin_xxy)\n",
    "    beta_2m     = np.linalg.solve(M_2m, b_2m)   \n",
    "    \n",
    "    K = np.zeros(N)\n",
    "    for i in range(N):\n",
    "        for j in range(N):\n",
    "            K[i] = K[i] + beta_2m[j] * Ker_x[i,j] + beta_2m[N+j] * Ker_xy[i,j]\n",
    "            \n",
    "    if diag == 1:\n",
    "        plt.figure()\n",
    "        plt.plot(Xi, Ker[:,0],'r*')\n",
    "        plt.plot(Xi, Ker_x[:,0], 'b*')\n",
    "        plt.plot(Xi, Ker_xy[:,0],'k*')\n",
    "        plt.show()\n",
    "            \n",
    "    end = timer()\n",
    "    print('Time taken' , end - start)\n",
    "    \n",
    "    return K"
   ]
  },
  {
   "cell_type": "markdown",
   "metadata": {},
   "source": [
    "#### Function to compute the exact FPF gain"
   ]
  },
  {
   "cell_type": "code",
   "execution_count": 5,
   "metadata": {},
   "outputs": [],
   "source": [
    "def gain_exact(Xi, c, p, c_hat, diag = 0):\n",
    "    start = timer()\n",
    "    \n",
    "    N = len(Xi)\n",
    "    K = np.zeros(N)\n",
    "    integral = np.zeros(N)\n",
    "    \n",
    "    step = 0.01\n",
    "    xmax = max(mu) + 10\n",
    "    \n",
    "    p_vec = lambdify(x, p, 'numpy')\n",
    "    c_vec = lambdify(x, c, 'numpy')\n",
    "    H = c_vec(Xi)\n",
    "    \n",
    "    for i in range(N):\n",
    "        integral[i] = 0\n",
    "        for xj in np.arange(Xi[i], xmax + 10,  step):\n",
    "            integral[i] = integral[i] + p_vec(xj) * ( c_vec(xj) - c_hat) * step\n",
    "        K[i] = integral[i]/ p_vec(Xi[i])\n",
    "            \n",
    "    end = timer()\n",
    "    print('Time taken' , end - start)\n",
    "    return K"
   ]
  },
  {
   "cell_type": "markdown",
   "metadata": {},
   "source": [
    "#### Function to approximate FPF gain using Markov kernel approx. method"
   ]
  },
  {
   "cell_type": "code",
   "execution_count": 6,
   "metadata": {},
   "outputs": [],
   "source": [
    "def gain_coif(Xi, c, epsilon, Phi, diag = 0):\n",
    "    start = timer()\n",
    "    \n",
    "    N = len(Xi)\n",
    "    k = np.zeros((N,N))\n",
    "    K = np.zeros(N)\n",
    "    T = np.zeros((N,N))\n",
    "    Phi = np.zeros(N)\n",
    "    sum_term = np.zeros(N)\n",
    "    max_diff = 1\n",
    "    \n",
    "    No_iterations = 50000\n",
    "    iterations = 1\n",
    "    \n",
    "    c_vec = lambdify(x, c, 'numpy')\n",
    "    H   = c_vec(Xi)\n",
    "    \n",
    "    Ker = np.exp(- squareform(pdist(Xi,'euclidean'))**2/ (4 * epsilon))\n",
    "    for i in range(N):\n",
    "        for j in range(N):\n",
    "            k[i,j] = Ker[i,j] / (np.sqrt( (1/N) * sum(Ker[i,:])) * np.sqrt( (1/N)* sum(Ker[j,:])))\n",
    "        T[i,:] = np.divide(k[i,:], np.sum(k[i,:]))\n",
    "    \n",
    "    while((max_diff > 1e-2) & ( iterations < No_iterations )):\n",
    "        Phi_new = np.matmul(T,Phi) + (epsilon * np.concatenate(H)).transpose() \n",
    "        max_diff = max(Phi_new - Phi) - min(Phi_new - Phi)\n",
    "        Phi  = Phi_new\n",
    "        iterations += 1\n",
    "                           \n",
    "    for i in range(N):\n",
    "        sum_term[i] = np.dot( T[i,:], Xi)\n",
    "        K[i] = 0\n",
    "        for j in range(N):\n",
    "            K[i] = K[i] + (1/ (2 * epsilon)) * T[i,j] * Phi[j,] * (Xi[j] - sum_term[i]) \n",
    "                                               \n",
    "    if diag == 1:\n",
    "        plt.figure()\n",
    "        plt.plot(Xi, Ker[1,:], 'r*')\n",
    "        plt.show()\n",
    "    \n",
    "    end = timer()\n",
    "    print('Time taken' , end - start)\n",
    "    \n",
    "    return K"
   ]
  },
  {
   "cell_type": "markdown",
   "metadata": {},
   "source": [
    "#### Function to approximate FPF gain using RKHS OM method - Adds a Lagrangian parameter to make use of the constant gain approximation"
   ]
  },
  {
   "cell_type": "code",
   "execution_count": 7,
   "metadata": {},
   "outputs": [],
   "source": [
    "def gain_rkhs_om(Xi, c, epsilon, Lambda, diag = 0):\n",
    "    start = timer()\n",
    "    \n",
    "    N = len(Xi)\n",
    "    K = np.zeros(N)\n",
    "    Ker_x = np.array(np.zeros((N,N)))\n",
    "    Ker_xy = np.array(np.zeros((N,N)))\n",
    "    \n",
    "    Ker = np.exp(- squareform(pdist(Xi,'euclidean'))**2/ (4 * epsilon))\n",
    "    \n",
    "    for i in range(N):\n",
    "        for j in range(N):\n",
    "            Ker_x[i,j] = -(Xi[i]-Xi[j]) * Ker[i,j] / (2 * epsilon)\n",
    "            Ker_xy[i,j] = (((Xi[i] - Xi[j])**2) / (2 * epsilon) -1) * Ker[i,j] / (2 * epsilon)\n",
    "    Ker_x_ones = np.dot(np.ones((1,N)), Ker_x)\n",
    "   \n",
    "    c_vec = lambdify(x, c, 'numpy')\n",
    "    H = c_vec(Xi)\n",
    "    eta = np.mean(H)\n",
    "    Y = (H -eta)\n",
    "    \n",
    "    K_hat = np.mean(Y * Xi)\n",
    "    \n",
    "    b_m = (1/ N) * np.dot(Ker,Y) - (1/ N) * np.transpose(Ker_x_ones) * K_hat \n",
    "    b_m = np.append(b_m, np.zeros((1,1)))\n",
    "    \n",
    "    M_m = Lambda * Ker + (1 / N) * np.matmul(Ker_x, Ker_x.transpose()) \n",
    "    M_m = np.vstack((M_m, (1/N) * Ker_x_ones))\n",
    "    M_m = np.hstack((M_m, np.transpose(np.append(Ker_x_ones,np.zeros((1,1)))).reshape(len(M_m),1)))\n",
    "    \n",
    "    beta_m = np.linalg.solve(M_m,b_m)\n",
    "    \n",
    "    K = np.zeros(N)\n",
    "    K.fill(K_hat)\n",
    "    for i in range(N):\n",
    "        for j in range(N):\n",
    "            K[i] = K[i] + beta_m[j] * Ker_x[i,j]\n",
    "            \n",
    "    if diag == 1:\n",
    "        plt.figure()\n",
    "        plt.plot(Xi, Ker[:,0],'r*')\n",
    "        plt.plot(Xi, Ker_x[:,0], 'b*')\n",
    "        plt.plot(Xi, Ker_xy[:,0],'k*')\n",
    "        plt.show()\n",
    "            \n",
    "    end = timer()\n",
    "    print('Time taken' , end - start)\n",
    "    \n",
    "    return K"
   ]
  },
  {
   "cell_type": "markdown",
   "metadata": {},
   "source": [
    "#### Function to compute the mean square error in gain function approximation"
   ]
  },
  {
   "cell_type": "code",
   "execution_count": 8,
   "metadata": {},
   "outputs": [],
   "source": [
    "def mean_squared_error(K_exact, K_approx, p):\n",
    "    N = len(K_exact)\n",
    "    p_vec = lambdify(x, p, 'numpy')\n",
    "    mse = (1/N) * np.linalg.norm(K_exact - K_approx)**2\n",
    "    # mse2 = np.sum(((K_exact - K_approx)**2) *np.concatenate(p_vec(Xi)))\n",
    "    return mse"
   ]
  },
  {
   "cell_type": "markdown",
   "metadata": {},
   "source": [
    "#### Main code execution"
   ]
  },
  {
   "cell_type": "code",
   "execution_count": 9,
   "metadata": {
    "scrolled": true
   },
   "outputs": [
    {
     "name": "stdout",
     "output_type": "stream",
     "text": [
      "0\n",
      "Time taken 6.246181702\n",
      "Time taken 29.593171516\n",
      "Time taken 1.699140467999996\n",
      "Time taken 5.014451588\n",
      "Time taken 2.9495702340000065\n",
      "1\n",
      "Time taken 15.608149325999996\n",
      "Time taken 71.235719626\n",
      "Time taken 1.6829289730000028\n",
      "Time taken 3.8646939129999964\n",
      "Time taken 2.560948367000009\n",
      "2\n",
      "Time taken 5.635512492000004\n",
      "Time taken 33.26121165999999\n",
      "Time taken 1.6294505489999835\n",
      "Time taken 4.78805152000001\n",
      "Time taken 4.032021852000014\n",
      "3\n",
      "Time taken 9.165554904000004\n",
      "Time taken 61.22267640099997\n",
      "Time taken 3.7465904989999785\n",
      "Time taken 8.545480801999986\n",
      "Time taken 5.854707004999966\n",
      "4\n",
      "Time taken 12.365990685999975\n",
      "Time taken 62.33785879199996\n",
      "Time taken 3.703561387000036\n",
      "Time taken 8.488018335999982\n",
      "Time taken 6.967824257000018\n",
      "5\n",
      "Time taken 12.563066380999999\n",
      "Time taken 63.73553546699998\n",
      "Time taken 3.696268676000045\n",
      "Time taken 8.449664319000021\n",
      "Time taken 6.186935624\n",
      "6\n",
      "Time taken 12.172985825000012\n",
      "Time taken 62.54582724100004\n",
      "Time taken 3.7518939249999903\n",
      "Time taken 8.740138355999989\n",
      "Time taken 5.621886887000073\n",
      "7\n",
      "Time taken 11.92912671900001\n",
      "Time taken 63.173157586\n",
      "Time taken 3.729788235000001\n",
      "Time taken 8.68196186199998\n",
      "Time taken 5.649929800999985\n",
      "8\n",
      "Time taken 11.902616522000017\n",
      "Time taken 61.35713608499998\n",
      "Time taken 3.749380968999958\n",
      "Time taken 8.415386970999975\n",
      "Time taken 5.816336213\n",
      "9\n",
      "Time taken 11.74127759199996\n",
      "Time taken 61.50867299499998\n",
      "Time taken 3.6157633139999916\n",
      "Time taken 8.502319314000033\n",
      "Time taken 5.763315816999921\n",
      "MSE for Markov kernel approx 0.24480121569764818\n",
      "MSE for RKHS N 0.25220248891046537\n",
      "MSE for RKHS 2N 0.2522024824255185\n",
      "MSE for RKHS OM 0.24894884416169064\n"
     ]
    },
    {
     "data": {
      "image/png": "[encoded data removed]",
      "text/plain": [
       "<Figure size 432x288 with 2 Axes>"
      ]
     },
     "metadata": {
      "needs_background": "light"
     },
     "output_type": "display_data"
    }
   ],
   "source": [
    "if __name__ == '__main__':\n",
    "    \n",
    "    ## Flags to be set to choose which methods to compare\n",
    "\n",
    "    exact  = 1      # Computes the exact gain and plots \n",
    "    coif   = 1      # Computes gain using Coifman kernel method\n",
    "    rkhs_N = 1      # Computes gain using subspace of RKHS\n",
    "    rkhs_2N= 1      # Computes optimal gain using RKHS \n",
    "    om     = 1      # Computes gain using RKHS enforcing constant gain constraint\n",
    "    memory = 0      # Computes gain using RKHS with a memory parameter for previous gain\n",
    "    om_mem = 0      # Computes gain using const gain approx and a memory parameter for previous gain\n",
    "    const  = 0      # Computes the constant gain approximation\n",
    "    kalman = 0      # Runs Kalman Filter for comparison\n",
    "    sis    = 0      # Runs Sequential Importance Sampling Particle Filter \n",
    "\n",
    "    # Run parameters\n",
    "    No_runs = 10\n",
    "    \n",
    "    # FPF parameters - No. of particles\n",
    "    N = 500\n",
    "    \n",
    "    # System parameters\n",
    "    dim = 1     # dimension of the system\n",
    "    c = x     # Observation function\n",
    "    c_vec = lambdify(x, c, 'numpy')\n",
    "        \n",
    "    # Parameters of the prior density p(0) - 2 component Gaussian mixture density\n",
    "    m = 2      # No of components in the Gaussian mixture\n",
    "    sigma = [0.4, 0.4]\n",
    "    mu  = [-1, 1]\n",
    "    w   = [0.5, 0.5]\n",
    "    w[-1] = 1 - sum(w[:-1])\n",
    "    p = 0\n",
    "    mu_eq = 0  # Equivalent mean of the density p\n",
    "    for m in range(len(w)):\n",
    "        p = p + w[m] * (1/ np.sqrt(2 * math.pi * sigma[m]**2))* exp(-(x - mu[m])**2/ (2* sigma[m]**2))\n",
    "        mu_eq = mu_eq + w[m] * mu[m] \n",
    "    p_vec = lambdify(x, p, 'numpy')\n",
    "    \n",
    "    mse_coif = np.zeros(No_runs)\n",
    "    mse_rkhs_N = np.zeros(No_runs)\n",
    "    mse_rkhs_2N = np.zeros(No_runs)\n",
    "    mse_om   = np.zeros(No_runs)\n",
    "    for run in range(No_runs):\n",
    "        print(run)\n",
    "        Xi  = np.zeros((N,1))\n",
    "        for i in range(N):\n",
    "            if np.random.uniform() <= w[0]:\n",
    "                Xi[i] = mu[0]  + sigma[0] * np.random.normal()\n",
    "            else:\n",
    "                Xi[i]  = mu[1]  + sigma[0] * np.random.normal()\n",
    "# To check consistency with Matlab code output - using the same samples \n",
    "#         Xi = np.loadtxt('Xi.txt')\n",
    "#         Xi = np.sort(Xi,kind = 'mergesort')\n",
    "#         Xi = np.reshape(Xi,(-1,1))\n",
    "#         plt.figure()\n",
    "#         sns.distplot(Xi)\n",
    "#         plt.show()\n",
    "\n",
    "        if exact == 1:\n",
    "            c_hat = mu_eq   # True only for c = x, linear function\n",
    "            K_exact  = gain_exact(Xi, c, p, c_hat, diag = 0)\n",
    "\n",
    "        if coif ==1:\n",
    "            eps_coif = 0.1\n",
    "            Phi = np.zeros(N)\n",
    "            K_coif = gain_coif(Xi, c, eps_coif, Phi, diag = 0)\n",
    "            if exact == 1:\n",
    "                mse_coif[run] = mean_squared_error(K_exact, K_coif, p)\n",
    "\n",
    "        if rkhs_N == 1:\n",
    "            eps_rkhs_N = 0.1\n",
    "            Lambda_rkhs_N = 1e-3\n",
    "            K_rkhs_N = gain_rkhs_N(Xi, c, eps_rkhs_N, Lambda_rkhs_N, diag = 0)\n",
    "            if exact == 1:\n",
    "                mse_rkhs_N[run] = mean_squared_error(K_exact, K_rkhs_N, p)\n",
    "\n",
    "        if rkhs_2N == 1:\n",
    "            eps_rkhs_2N = 0.1\n",
    "            Lambda_rkhs_2N = 1e-3\n",
    "            K_rkhs_2N = gain_rkhs_2N(Xi, c, eps_rkhs_2N, Lambda_rkhs_2N, diag = 0)\n",
    "            if exact == 1:\n",
    "                mse_rkhs_2N[run] = mean_squared_error(K_exact, K_rkhs_2N, p)\n",
    "\n",
    "        if om == 1:\n",
    "            eps_om = 0.1\n",
    "            Lambda_om = 1e-3\n",
    "            K_om = gain_rkhs_om(Xi, c, eps_om, Lambda_om, diag = 0)\n",
    "            if exact == 1:\n",
    "                mse_om[run] = mean_squared_error(K_exact, K_om, p)\n",
    "    \n",
    "    if exact == 1 & coif == 1:\n",
    "        print('MSE for Markov kernel approx', np.mean(mse_coif))\n",
    "    if exact == 1 & rkhs_N == 1:\n",
    "        print('MSE for RKHS N', np.mean(mse_rkhs_N))\n",
    "    if exact == 1 & rkhs_2N == 1:\n",
    "        print('MSE for RKHS 2N', np.mean(mse_rkhs_2N))\n",
    "    if exact == 1 & om == 1:\n",
    "        print('MSE for RKHS OM', np.mean(mse_om))\n",
    "    \n",
    "    ### Displaying the plots\n",
    "    fig,ax1 = plt.subplots()\n",
    "    if exact == 1:\n",
    "        ax1.plot(Xi, K_exact, 'b^', markersize = 2, label ='Exact gain')\n",
    "    if rkhs_N == 1:\n",
    "        ax1.plot(Xi, K_rkhs_N, 'r*', markersize =2, label = 'RKHS approx. N')\n",
    "    if rkhs_2N == 1:\n",
    "        ax1.plot(Xi, K_rkhs_2N, 'cs', markersize =2, label = 'RKHS approx. 2N')\n",
    "    if coif == 1:\n",
    "        ax1.plot(Xi, K_coif, 'g.', markersize = 2, label ='Markov kernel approx.')\n",
    "    if om == 1:\n",
    "        ax1.plot(Xi, K_om, 'm*', markersize = 2, label = 'RKHS OM')\n",
    "    ax2 =ax1.twinx()\n",
    "    ax2.plot(np.arange(-2,2,0.01), p_vec(np.arange(-2,2,0.01)),'k.-', markersize =1, label = 'p(x)')\n",
    "    ax2.set_ylabel('p(x)')\n",
    "    ax2.legend(loc=1)\n",
    "    ax1.set_xlabel('Particle Locations')\n",
    "    ax1.set_ylabel('Gain K(x)')\n",
    "    ax1.legend()\n",
    "    plt.xticks(rotation = 45)\n",
    "    plt.tight_layout()\n",
    "    plt.show()     "
   ]
  },
  {
   "cell_type": "code",
   "execution_count": 16,
   "metadata": {},
   "outputs": [
    {
     "data": {
      "text/plain": [
       "array([0.20474018, 0.43195612, 0.30885522, 0.27550685, 0.37012747,\n",
       "       0.10071576, 0.17313446, 0.32887822, 0.24304982, 0.08506073])"
      ]
     },
     "execution_count": 16,
     "metadata": {},
     "output_type": "execute_result"
    }
   ],
   "source": [
    "mse_rkhs_2N"
   ]
  },
  {
   "cell_type": "code",
   "execution_count": 17,
   "metadata": {},
   "outputs": [
    {
     "data": {
      "text/plain": [
       "array([0.2047403 , 0.43195606, 0.30885523, 0.27550685, 0.37012747,\n",
       "       0.10071576, 0.17313445, 0.32887822, 0.24304982, 0.08506073])"
      ]
     },
     "execution_count": 17,
     "metadata": {},
     "output_type": "execute_result"
    }
   ],
   "source": [
    "mse_rkhs_N"
   ]
  },
  {
   "cell_type": "code",
   "execution_count": 14,
   "metadata": {},
   "outputs": [
    {
     "data": {
      "text/plain": [
       "array([0.18233795, 0.36179269, 0.51424742, 0.24112596, 0.09748179,\n",
       "       0.17267306, 0.07605512, 0.33844005, 0.35862283, 0.10523528])"
      ]
     },
     "execution_count": 14,
     "metadata": {},
     "output_type": "execute_result"
    }
   ],
   "source": [
    "mse_coif"
   ]
  },
  {
   "cell_type": "markdown",
   "metadata": {},
   "source": [
    "### Rough trials"
   ]
  }
 ],
 "metadata": {
  "kernelspec": {
   "display_name": "Python 3",
   "language": "python",
   "name": "python3"
  },
  "language_info": {
   "codemirror_mode": {
    "name": "ipython",
    "version": 3
   },
   "file_extension": ".py",
   "mimetype": "text/x-python",
   "name": "python",
   "nbconvert_exporter": "python",
   "pygments_lexer": "ipython3",
   "version": "3.7.1"
  }
 },
 "nbformat": 4,
 "nbformat_minor": 2
}
