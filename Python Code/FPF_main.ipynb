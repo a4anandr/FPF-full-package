{
 "cells": [
  {
   "cell_type": "markdown",
   "metadata": {
    "collapsed": true
   },
   "source": [
    "## FPF Gain approximation code"
   ]
  },
  {
   "cell_type": "code",
   "execution_count": 197,
   "metadata": {},
   "outputs": [],
   "source": [
    "import numpy as np\n",
    "from sympy import *\n",
    "from scipy.spatial.distance import pdist,squareform\n",
    "from scipy.stats import norm\n",
    "import scipy.integrate as integrate\n",
    "import math\n",
    "\n",
    "from timeit import default_timer as timer\n",
    "\n",
    "import matplotlib.pyplot as plt\n",
    "from matplotlib import rc\n",
    "rc('text',usetex = True)\n",
    "import seaborn as sns\n",
    "\n",
    "from sklearn.linear_model import ridge\n",
    "\n",
    "from IPython.display import clear_output\n",
    "\n",
    "%matplotlib inline"
   ]
  },
  {
   "cell_type": "markdown",
   "metadata": {},
   "source": [
    "### Defining some functions"
   ]
  },
  {
   "cell_type": "markdown",
   "metadata": {},
   "source": [
    "#### Function to generate samples from a multi-dimensional 1d- Gaussian mixture $\\times$  (d-1) independnt Gaussian distribution "
   ]
  },
  {
   "cell_type": "code",
   "execution_count": 198,
   "metadata": {},
   "outputs": [],
   "source": [
    "def get_samples(N, mu, sigma_b, w, dim,  sigma = None):\n",
    "    Xi  = np.zeros((N,dim))\n",
    "    for i in range(N):\n",
    "        if np.random.uniform() <= w[0]:\n",
    "            Xi[i,0] = mu[0]  + sigma_b[0] * np.random.normal()\n",
    "        else:\n",
    "            Xi[i,0]  = mu[1]  + sigma_b[1] * np.random.normal()\n",
    "        for d in range(1, dim):\n",
    "            Xi[i,d] = sigma * np.random.normal()\n",
    "    return Xi"
   ]
  },
  {
   "cell_type": "markdown",
   "metadata": {},
   "source": [
    "#### Function to compute the mean square error in gain function approximation"
   ]
  },
  {
   "cell_type": "code",
   "execution_count": 199,
   "metadata": {},
   "outputs": [],
   "source": [
    "def mean_squared_error(K_exact, K_approx, p):\n",
    "    N = len(K_exact)\n",
    "    p_vec = lambdify(x, p, 'numpy')\n",
    "    mse = (1/N) * np.linalg.norm(K_exact - K_approx)**2\n",
    "    # mse2 = np.sum(((K_exact - K_approx)**2) *np.concatenate(p_vec(Xi)))\n",
    "    return mse"
   ]
  },
  {
   "cell_type": "markdown",
   "metadata": {},
   "source": [
    "### Different gain approximation algorithms"
   ]
  },
  {
   "cell_type": "markdown",
   "metadata": {},
   "source": [
    "### Function to approximate FPF gain using optimal RKHS method  \n",
    "uses the extended representer theorem in - https://www.sciencedirect.com/science/article/pii/S0377042707004657?via%3Dihub\n",
    "#### Algorithm for a scalar example\n",
    "\\begin{equation}\n",
    "\\text{K}(x) = \\sum_{i=1}^N \\Bigl[ \\beta^0_i K(x^i,x) + \\beta^1_i \\frac{\\partial K} {\\partial x}(x^i,x) \\Bigr]\n",
    "\\end{equation}\n",
    "\n",
    "\\begin{equation}\n",
    "\t\\beta ^* = M^{-1} b\n",
    "\\end{equation}\n",
    "\n",
    "\\begin{equation}\n",
    "\t\\begin{aligned}\n",
    "\t\\text{where,\n",
    "\t}\n",
    "\t\\quad\n",
    "\tM & := \\frac{1}{N} \\left[\\begin{array}{c} M_y\\\\ \\hline M_{xy} \\end{array}\\right] [ M_x \\,| M_{xy}] + \\lambda  \\left[\n",
    "\t\\begin{array}{c|c}\n",
    "\tM_0 & M_y \\\\\n",
    "\t\\hline\n",
    "\tM_x & M_{xy}\n",
    "\t\\end{array}\n",
    "\t\\right] \\\\\n",
    "\tb & :=  \\frac{1}{N} \\left[ \\begin{array}{c} M_0 \\\\ \\hline M_x \\end{array}\\right] \\tilde{c}\t\\end{aligned}\n",
    "\\end{equation}\n",
    "\n",
    "\\begin{aligned}\n",
    "M_0(i,j) &:= K(x^i,x^j)\n",
    "\\quad\n",
    "& M_x(i,j) &:= \\frac{\\partial K}{\\partial x}(x^i,x^j)\n",
    "\\\\\n",
    "M_y(i,j) &:= \\frac{\\partial K}{\\partial y}(x^i,x^j)\n",
    "\\quad\n",
    "& M_{xy}(i,j) &:= \\frac{\\partial^2 K}{\\partial x \\partial y}(x^i,x^j).\n",
    "\\end{aligned}"
   ]
  },
  {
   "cell_type": "code",
   "execution_count": 200,
   "metadata": {},
   "outputs": [],
   "source": [
    "def gain_rkhs_2N(Xi, C, epsilon, Lambda, diag = 0):\n",
    "    start = timer()\n",
    "    \n",
    "    N,dim = Xi.shape\n",
    "    K = np.zeros((N,dim))\n",
    "    Ker_x = np.array(np.zeros((N,N,dim)))\n",
    "    Ker_xy = np.array(np.zeros((N,N,dim)))\n",
    "    \n",
    "    Ker = np.exp(- squareform(pdist(Xi,'euclidean'))**2/ (4 * epsilon))\n",
    "    for i in range(N):\n",
    "        for j in range(N):\n",
    "            Ker_x[i,j,:] = -(Xi[i,:]-Xi[j,:]) * Ker[i,j] / (2 * epsilon)\n",
    "            Ker_xy[i,j,:] = -(((Xi[i,:] - Xi[j,:])**2) / (2 * epsilon) -1) * Ker[i,j] / (2 * epsilon) # Negative of the second Gaussian derivative, as this is K_xy and not K_x2\n",
    "    \n",
    "    eta = np.mean(C)\n",
    "    Y = (C -eta)\n",
    "    \n",
    "    # Constructing block matrices for future use\n",
    "    # K_big      = [ Ker Ker_x ; Ker_x' Ker_x_y];\n",
    "    # K_thin_yxy = [ Ker_x ; Ker_x_y]; \n",
    "    # K_thin_x   = [ Ker ; Ker_x'];\n",
    "    K_big      = np.concatenate((np.concatenate((Ker,np.transpose(np.reshape(Ker_x,(N,N)))),axis = 1), np.concatenate((np.reshape(Ker_x,(N,N)), np.reshape(Ker_xy,(N,N))),axis =1)))\n",
    "    K_thin_yxy = np.concatenate((np.transpose(np.reshape(Ker_x,(N,N))), np.reshape(Ker_xy,(N,N))))\n",
    "    # K_thin_xxy = np.concatenate((Ker_x,Ker_xy), axis = 1)\n",
    "    K_thin_x   = np.concatenate((Ker, np.reshape(Ker_x,(N,N))))\n",
    "    \n",
    "    # b used in the extended representer theorem algorithm - searching over all of the Hilbert space H\n",
    "    b_2N        = (1/N) * np.dot(K_thin_x, Y)\n",
    "    M_2N        = Lambda * K_big + (1/N) * np.matmul(K_thin_yxy, np.transpose(K_thin_yxy))\n",
    "    beta_2N     = np.linalg.solve(M_2N, b_2N)   \n",
    "    \n",
    "    for i in range(N):\n",
    "        for j in range(N):\n",
    "            K[i,:] = K[i,:] + beta_2N[j] * Ker_x[i,j,:] + beta_2N[N+j] * Ker_xy[i,j,:]\n",
    "            \n",
    "    if diag == 1:\n",
    "        plt.figure()\n",
    "        plt.plot(Xi, Ker[:,0],'r*')\n",
    "        plt.plot(Xi, Ker_x[:,0], 'b*')\n",
    "        plt.plot(Xi, Ker_xy[:,0],'k*')\n",
    "        plt.show()\n",
    "            \n",
    "    end = timer()\n",
    "    print('Time taken' , end - start)\n",
    "    \n",
    "    return K"
   ]
  },
  {
   "cell_type": "code",
   "execution_count": 201,
   "metadata": {},
   "outputs": [],
   "source": [
    "def gain_rkhs_dN(Xi, C, epsilon, Lambda, diag = 1):\n",
    "    start = timer()\n",
    "    \n",
    "    N,dim = Xi.shape\n",
    "    K = np.zeros((N,dim))\n",
    "    Ker_x  = np.array(np.zeros((N,N,dim)))\n",
    "    Ker_xy = np.array(np.zeros((N,N, dim+1, dim+1)))\n",
    "    # Ker_xy = np.array(np.zeros((N,N, dim, dim)))\n",
    "    \n",
    "    K_big  = np.array(np.zeros(((dim+1)*N, (dim+1)*N)))\n",
    "    K_thin_x =np.array(np.zeros(((dim+1)*N, N)))\n",
    "    K_thin_xy = np.array(np.zeros(((dim+1)*N, dim * N)))\n",
    "    \n",
    "    Ker = np.exp(- squareform(pdist(Xi,'euclidean'))**2/ (4 * epsilon))\n",
    "    for i in range(N):\n",
    "        for j in range(N):\n",
    "            Ker_x[i,j,:] = -(Xi[i,:]-Xi[j,:]) * Ker[i,j] / (2 * epsilon)\n",
    "            # Ker_x2[i,j,:] = -(((Xi[i,:] - Xi[j,:])**2)  / (2 * epsilon) -1) * Ker[i,j] / (2 * epsilon) # Negative of the second Gaussian derivative, as this is K_xy and not K_x2\n",
    "    \n",
    "    for d_i in range(dim + 1):\n",
    "        for d_j in range(dim + 1):\n",
    "            if d_i == 0:\n",
    "                if d_j == 0:\n",
    "                    K_big[d_i * N : (d_i + 1) *N, d_j * N : (d_j +1) * N ] = Ker\n",
    "                else:\n",
    "                    K_big[d_i * N : (d_i + 1) *N, d_j * N : (d_j +1) * N ] = np.transpose(Ker_x[:,:,d_j-1])\n",
    "            elif d_j == 0:\n",
    "                K_big[d_i * N : (d_i + 1) *N, d_j * N : (d_j +1) * N ] = Ker_x[:,:,d_i-1]\n",
    "            elif d_i == d_j:\n",
    "                for i in range(N):\n",
    "                    for j in range(N):\n",
    "                        Ker_xy[i,j, d_i, d_j] = -(((Xi[i,d_i-1] - Xi[j,d_i-1])**2)  / (2 * epsilon) -1) * Ker[i,j] / (2 * epsilon) \n",
    "                K_big[d_i * N : (d_i + 1) *N, d_j * N : (d_j +1) * N ] = Ker_xy[:,:,d_i, d_j]\n",
    "            else:\n",
    "                for i in range(N):\n",
    "                    for j in range(N):\n",
    "                        Ker_xy[i,j, d_i, d_j] = -((Xi[i,d_i-1] - Xi[j,d_i-1])* (Xi[i,d_j-1] - Xi[j,d_j-1])) / (2 * epsilon) * Ker[i,j] / (2 * epsilon) # Negative of the second Gaussian derivative, as this is K_xy and not K_x2        \n",
    "                K_big[d_i * N : (d_i + 1) *N, d_j * N : (d_j +1) * N ] = Ker_xy[:,:,d_i, d_j]\n",
    "            \n",
    "    for d_i in range(dim + 1):\n",
    "        if d_i == 0:\n",
    "            K_thin_x[d_i *N :(d_i+1)*N,: ] = Ker\n",
    "        else:\n",
    "            K_thin_x[d_i *N :(d_i+1)*N,: ] = Ker_x[:,:,d_i-1]\n",
    "            \n",
    "    for d_i in range(dim+1):\n",
    "        for d_j in range(dim):\n",
    "            if d_i == 0:\n",
    "                K_thin_xy[d_i * N :(d_i+1)*N, d_j * N : (d_j+1) *N] = np.transpose(Ker_x[:,:,d_j])\n",
    "            else:\n",
    "                K_thin_xy[d_i * N :(d_i+1)*N, d_j * N :(d_j+1) *N] = Ker_xy[:,:,d_i,d_j+1]\n",
    "    \n",
    "    eta = np.mean(C)\n",
    "    Y = (C -eta)\n",
    "    \n",
    "    # b used in the extended representer theorem algorithm - searching over all of the Hilbert space H\n",
    "    b_dN        = (1/N) * np.dot(K_thin_x, Y)\n",
    "    M_dN        = Lambda * K_big + (1/N) * np.matmul(K_thin_xy, np.transpose(K_thin_xy))\n",
    "    beta_dN     = np.linalg.solve(M_dN, b_dN)   \n",
    "    \n",
    "    for i in range(N):\n",
    "        for j in range(N):\n",
    "            K[i,:] = K[i,:] + beta_dN[j] * Ker_x[i,j,:] \n",
    "            for d_i in range(dim):\n",
    "                K[i,:] = K[i,:] + beta_dN[(d_i + 1) *N + j] * Ker_xy[i,j,(d_i+1),1:]\n",
    "            \n",
    "    if diag == 1:\n",
    "        plt.figure()\n",
    "        plt.plot(Xi[:,0], Ker[:,1],'r*')\n",
    "        plt.plot(Xi, Ker_x[:,1,0], 'b*')\n",
    "#         plt.plot(Xi, Ker_xy[:,1,1,1],'k*')\n",
    "        plt.show()\n",
    "            \n",
    "    end = timer()\n",
    "    print('Time taken' , end - start)\n",
    "    \n",
    "    return K"
   ]
  },
  {
   "cell_type": "markdown",
   "metadata": {},
   "source": [
    "### Function to approximate FPF gain using subspace RKHS method  \n",
    "uses normal representer theorem, obtains optimal solution on a subspace of RKHS.\n",
    "#### Algorithm\n",
    "\\begin{equation}\n",
    "\\text{K}(x) = \\sum_{i=1}^N \\beta^*_i \\frac{\\partial K}{\\partial x} (x^i,x)  \n",
    "\\end{equation}\n",
    "\\begin{equation}\n",
    "\\beta  := M^{-1} b   \\,,\n",
    "\\end{equation}\n",
    "where $ M := N^{-1} M_y M_x + \\lambda M_0$ and $ b := N^{-1} M_0 \\, \\tilde{c}  $."
   ]
  },
  {
   "cell_type": "code",
   "execution_count": 202,
   "metadata": {},
   "outputs": [],
   "source": [
    "def gain_rkhs_N(Xi, C, epsilon, Lambda, diag = 0):\n",
    "    start = timer()\n",
    "    \n",
    "    N,dim = Xi.shape\n",
    "    K = np.zeros((N,dim))\n",
    "    Ker_x = np.array(np.zeros((N,N,dim)))\n",
    "    Ker_x_sum = np.zeros((N,N))\n",
    "    \n",
    "    Ker = np.exp(- squareform(pdist(Xi,'euclidean'))**2/ (4 * epsilon))    \n",
    "    for i in range(N):\n",
    "        for j in range(N):\n",
    "            Ker_x[i,j,:] = -(Xi[i,:]-Xi[j,:]) * Ker[i,j] / (2 * epsilon)\n",
    "    \n",
    "    eta = np.mean(C)\n",
    "    Y = (C -eta)\n",
    "    \n",
    "    b_N = (1/ N) * np.dot(Ker,Y)\n",
    "    for d in np.arange(dim):\n",
    "        Ker_x_sum+= np.matmul(Ker_x[:,:,d], Ker_x[:,:,d].transpose())\n",
    "    M_N = Lambda * Ker + (1/ N) * Ker_x_sum\n",
    "    beta_N = np.linalg.solve(M_N,b_N)\n",
    "    \n",
    "    for i in range(N):\n",
    "        for j in range(N):\n",
    "            K[i,:] = K[i,:] + beta_N[j] * Ker_x[i,j,:]\n",
    "            \n",
    "    if diag == 1:\n",
    "        plt.figure()\n",
    "        plt.plot(Xi, Ker[:,100],'r*')\n",
    "        plt.plot(Xi, Ker_x[:,100,:], 'b*')\n",
    "        plt.show()\n",
    "            \n",
    "    end = timer()\n",
    "    print('Time taken' , end - start)\n",
    "    \n",
    "    return K"
   ]
  },
  {
   "cell_type": "markdown",
   "metadata": {},
   "source": [
    "### Function to compute the exact FPF gain by numerical integration\n",
    "#### Algorithm\n",
    "\\begin{equation} \n",
    "\\text{K}(x) =  - \\frac{1}{p(x)} \\int_{-\\infty}^{x} (c(y) - \\hat{c}) p(y) dy\n",
    "\\end{equation}"
   ]
  },
  {
   "cell_type": "code",
   "execution_count": 203,
   "metadata": {},
   "outputs": [],
   "source": [
    "def gain_exact(Xi, c, p):\n",
    "    start = timer()\n",
    "    \n",
    "    N = len(Xi)\n",
    "    K = np.zeros(N)\n",
    "    integral = np.zeros(N)\n",
    "    \n",
    "    step = 0.01\n",
    "    xmax = max(mu) + 10\n",
    "    \n",
    "    p_vec = lambdify(x, p, 'numpy')\n",
    "    c_vec = lambdify(x, c, 'numpy')\n",
    "    cp    = lambdify(x, c*p, 'numpy')\n",
    "    c_hat = integrate.quad(cp, -np.inf, np.inf)[0]\n",
    "    \n",
    "    for i in range(N):\n",
    "        integral[i] = 0\n",
    "        for xj in np.arange(Xi[i], xmax + 10,  step):\n",
    "            integral[i] = integral[i] + p_vec(xj) * ( c_vec(xj) - c_hat) * step\n",
    "        K[i] = integral[i]/ p_vec(Xi[i])\n",
    "            \n",
    "    end = timer()\n",
    "    print('Time taken' , end - start)\n",
    "    return K"
   ]
  },
  {
   "cell_type": "markdown",
   "metadata": {},
   "source": [
    "#### Using scipy.integrate.quad"
   ]
  },
  {
   "cell_type": "code",
   "execution_count": 204,
   "metadata": {},
   "outputs": [],
   "source": [
    "def gain_num_integrate(Xi, c, p):\n",
    "    start = timer()\n",
    "    \n",
    "    N = len(Xi)\n",
    "    K = np.zeros(N)\n",
    "    integral = np.zeros(N)\n",
    "     \n",
    "    if Xi.shape[1] == 1:\n",
    "        p_x = lambdify(x, p, 'numpy')\n",
    "        cp_x  = lambdify(x, c*p, 'numpy')\n",
    "        c_hat = integrate.quad(cp_x, -np.inf, np.inf)[0]\n",
    "        integrand_x = lambdify(x, p * (c - c_hat) , 'numpy')\n",
    "        integrand = lambda x: integrand_x(x)\n",
    "    else:\n",
    "        p_x = lambdify(x[0], p, 'numpy')\n",
    "        cp_x  = lambdify(x[0], c*p, 'numpy')\n",
    "        c_hat = integrate.quad(cp_x, -np.inf, np.inf)[0]\n",
    "        integrand_x = lambdify(x[0], p * (c - c_hat) , 'numpy')\n",
    "        integrand = lambda x: integrand_x(x)\n",
    "   \n",
    "    for i in range(N):\n",
    "        if Xi.shape[1] == 1:\n",
    "            integral[i] = integrate.quad( integrand, -np.inf, Xi[i])[0]\n",
    "            K[i] = - integral[i]/ p_x(Xi[i])\n",
    "        else:\n",
    "            integral[i] = integrate.quad( integrand, -np.inf, Xi[i,0])[0]\n",
    "            K[i] = - integral[i]/ p_x(Xi[i,0])\n",
    "    # K = np.reshape(K,(N,1))\n",
    "    \n",
    "    end = timer()\n",
    "    print('Time taken' , end - start)\n",
    "    return K"
   ]
  },
  {
   "cell_type": "markdown",
   "metadata": {},
   "source": [
    "### Function to approximate FPF gain using Markov kernel approx. method -\n",
    "Based on the Markov semigroup approximation method in https://arxiv.org/pdf/1902.07263.pdf\n",
    "#### Algorithm  \n",
    "1.Calculate $g_{ij} = \\exp(-|X^i - X^j|^2/ 4\\epsilon)$ for $i,j = 1$ to $N$  \n",
    "2.Calculate $k_{ij} = \\frac{g_{ij}}{\\sqrt{\\sum_l g_{il}}\\sqrt{\\sum_l g_{jl}}}$  \n",
    "3.Calculate $d_i = \\sum_j k_{ij}$  \n",
    "4.Calculate $\\text{T}_{ij} = \\frac{k_{ij}}{d_i}$  \n",
    "5.Calculate $\\pi_i = \\frac{d_i}{\\sum_j d_j}$  \n",
    "6.Calculate $ \\hat{h} = \\sum_{i = 1}^N \\pi_i h(X^i)$  \n",
    "7.Until convergence, $\\Phi_i = \\sum_{j=1}^N \\text{T}_{ij} \\Phi_j + \\epsilon (h - \\hat{h})$  \n",
    "8.Calculate $r_i = \\Phi_i + \\epsilon h_i$  \n",
    "9.Calculate $s_{ij} = \\frac{1}{2\\epsilon} \\text{T}_{ij} (r_j - \\sum_{k=1}^N \\text{T}_{ik} r_k)$  \n",
    "10.Calulate $\\text{K}_i  = \\sum_j s_{ij} X^j$"
   ]
  },
  {
   "cell_type": "code",
   "execution_count": 205,
   "metadata": {},
   "outputs": [],
   "source": [
    "def gain_coif(Xi, C, epsilon, Phi, No_iterations = 50000, diag = 0):\n",
    "    start = timer()\n",
    "    \n",
    "    N,dim = Xi.shape\n",
    "    k = np.zeros((N,N))\n",
    "    K = np.zeros((N,dim))\n",
    "    d = np.zeros(N)\n",
    "    T = np.zeros((N,N))\n",
    "    Phi = np.zeros(N)\n",
    "    sum_term = np.zeros((N,dim))\n",
    "    max_diff = 1\n",
    "    \n",
    "    iterations = 1\n",
    "    \n",
    "    g = np.exp(- squareform(pdist(Xi,'euclidean'))**2/ (4 * epsilon))    \n",
    "    for i in range(N):\n",
    "        for j in range(N):\n",
    "            k[i,j] = g[i,j] / (np.sqrt( (1/N) * sum(g[i,:])) * np.sqrt( (1/N)* sum(g[j,:])))\n",
    "        d[i] = np.sum(k[i,:])\n",
    "        T[i,:] = np.divide(k[i,:], np.sum(k[i,:]))\n",
    "    pi = np.divide(d, np.sum(d))\n",
    "    C_hat = np.dot(pi, C)\n",
    "                      \n",
    "    while((max_diff > 0) & ( iterations < No_iterations )):\n",
    "        Phi_new = np.matmul(T,Phi) + (epsilon * np.concatenate(C - C_hat)).transpose() \n",
    "        max_diff = max(Phi_new - Phi) - min(Phi_new - Phi)\n",
    "        Phi  = Phi_new\n",
    "        iterations += 1\n",
    "    \n",
    "    r = Phi + epsilon * np.concatenate(C)\n",
    "    for i in range(N):\n",
    "        sum_term[i] = np.dot( T[i,:], r)\n",
    "        K[i,:] = np.zeros(dim)\n",
    "        for j in range(N):\n",
    "            K[i,:] = K[i,:] + (1/ (2 * epsilon)) * T[i,j] * (r[j] - sum_term[i]) * Xi[j,:]                                  \n",
    "    if diag == 1:\n",
    "        plt.figure()\n",
    "        plt.plot(Xi, g[1,:], 'r*')\n",
    "        plt.show()\n",
    "    \n",
    "    end = timer()\n",
    "    print('Time taken' , end - start)\n",
    "    \n",
    "    return K"
   ]
  },
  {
   "cell_type": "markdown",
   "metadata": {},
   "source": [
    "Slightly older version of Markov kernel approximation - from https://ieeexplore.ieee.org/stamp/stamp.jsp?tp=&arnumber=7799105"
   ]
  },
  {
   "cell_type": "code",
   "execution_count": 206,
   "metadata": {},
   "outputs": [],
   "source": [
    "def gain_coif_old(Xi, C, epsilon, Phi, No_iterations =50000, diag = 0):\n",
    "    start = timer()\n",
    "    \n",
    "    N,dim = Xi.shape\n",
    "    k = np.zeros((N,N))\n",
    "    K = np.zeros((N,dim))\n",
    "    d = np.zeros(N)\n",
    "    T = np.zeros((N,N))\n",
    "    Phi = np.zeros(N)\n",
    "    sum_term = np.zeros((N,dim))\n",
    "    max_diff = 1\n",
    "        \n",
    "    iterations = 1\n",
    "    \n",
    "    g = np.exp(- squareform(pdist(Xi,'euclidean'))**2/ (4 * epsilon))\n",
    "    for i in range(N):\n",
    "        for j in range(N):\n",
    "            k[i,j] = g[i,j] / (np.sqrt( (1/N) * sum(g[i,:])) * np.sqrt( (1/N)* sum(g[j,:])))\n",
    "        d[i] = np.sum(k[i,:])\n",
    "        T[i,:] = np.divide(k[i,:], np.sum(k[i,:]))\n",
    "                      \n",
    "    while((max_diff > 0) & ( iterations < No_iterations )):\n",
    "        Phi_new = np.matmul(T,Phi) + (epsilon * np.concatenate(C)).transpose() \n",
    "        max_diff = max(Phi_new - Phi) - min(Phi_new - Phi)\n",
    "        Phi  = Phi_new\n",
    "        iterations += 1\n",
    "    \n",
    "    for i in range(N):\n",
    "        sum_term[i,:] = np.dot( T[i,:], Xi)\n",
    "        K[i,:] = np.zeros(dim)\n",
    "        for j in range(N):\n",
    "            K[i,:] = K[i,:] + (1/ (2 * epsilon)) * T[i,j] * Phi[j,] * (Xi[j,:] - sum_term[i,:])   \n",
    "            \n",
    "    if diag == 1:\n",
    "        plt.figure()\n",
    "        plt.plot(Xi, g[1,:], 'r*')\n",
    "        plt.show()\n",
    "    \n",
    "    end = timer()\n",
    "    print('Time taken' , end - start)\n",
    "    \n",
    "    return K"
   ]
  },
  {
   "cell_type": "markdown",
   "metadata": {},
   "source": [
    "### Function to approximate FPF gain using RKHS OM method - Adds a Lagrangian parameter $\\mu$ to make use of the constant gain approximation\n",
    "#### Algorithm\n",
    "$\\beta^*$ obtained by solving the set of linear equations\n",
    "\\begin{equation}\n",
    "\\begin{aligned}\n",
    "0  &=  2 \\Bigl(  \\frac{1}{N}  \\sum_{k=1}^d M_{x_k}^T M_{x_k}   +  \\lambda M_0 \\Bigr) \\beta ^* + \\frac{ \\kappa \\mu ^*}{N}+  \\frac{2}{N} \\Bigl( \\kappa \\text{K}^*  -   M_0 \\tilde{c} \\Bigr)  \\\\\n",
    "0  & = \\kappa^{T} \\beta^*\n",
    "\\end{aligned}\n",
    "\\end{equation}"
   ]
  },
  {
   "cell_type": "code",
   "execution_count": 210,
   "metadata": {},
   "outputs": [],
   "source": [
    "def gain_rkhs_om(Xi, C, epsilon, Lambda, diag = 0):\n",
    "    start = timer()\n",
    "    \n",
    "    N,dim = Xi.shape\n",
    "    K = np.zeros((N,dim))\n",
    "    Ker_x = np.array(np.zeros((N,N,dim)))\n",
    "    # Ker_xy = np.array(np.zeros((N,N)))\n",
    "    \n",
    "    Ker = np.exp(- squareform(pdist(Xi,'euclidean'))**2/ (4 * epsilon))\n",
    "    \n",
    "    for i in range(N):\n",
    "        for j in range(N):\n",
    "            Ker_x[i,j,:] = -(Xi[i,:]-Xi[j,:]) * Ker[i,j] / (2 * epsilon)\n",
    "            # Ker_xy[i,j] = (((Xi[i] - Xi[j])**2) / (2 * epsilon) -1) * Ker[i,j] / (2 * epsilon)\n",
    "    # Ker_x_ones = np.dot(np.ones((1,N)), Ker_x)\n",
    "    Ker_x_ones = np.dot(np.transpose(Ker_x), np.ones((N,1)))\n",
    "\n",
    "    eta = np.mean(C)\n",
    "    Y = (C -eta)\n",
    "    \n",
    "    K_hat = np.mean(Y * Xi, axis = 0)\n",
    "\n",
    "    b_m = (2/ N) * np.dot(Ker,Y) - (2/ N) * np.dot( np.moveaxis(Ker_x_ones,0,2), K_hat) \n",
    "    b_m = np.append(b_m, np.zeros((dim,1)))\n",
    "    \n",
    "    Ker_x_sum = np.zeros((N,N))\n",
    "    for d_i in range(dim):\n",
    "        Ker_x_sum = Ker_x_sum + np.matmul(Ker_x[:,:,d_i], Ker_x[:,:,d_i].transpose())\n",
    "    M_m = 2 * Lambda * Ker + (2 / N) * Ker_x_sum\n",
    "    M_m = np.vstack((M_m, (1/N) * np.squeeze(Ker_x_ones)))\n",
    "    M_m = np.hstack((M_m, np.append(np.squeeze(np.transpose(Ker_x_ones),axis =0),np.zeros((dim,dim)),axis =0))) #.reshape(len(M_m),1))\n",
    "    \n",
    "    beta_m = np.linalg.solve(M_m,b_m)\n",
    "    \n",
    "    # K.fill(K_hat)\n",
    "    K  = np.tile(K_hat, (N,1))\n",
    "    for i in range(N):\n",
    "        for j in range(N):\n",
    "            K[i,:] = K[i,:] + beta_m[j] * Ker_x[i,j,:]\n",
    "            \n",
    "    if diag == 1:\n",
    "        plt.figure()\n",
    "        plt.plot(Xi, Ker[:,0],'r*')\n",
    "        plt.plot(Xi, Ker_x[:,0], 'b*')\n",
    "        plt.plot(Xi, Ker_xy[:,0],'k*')\n",
    "        plt.show()\n",
    "            \n",
    "    end = timer()\n",
    "    print('Time taken' , end - start)\n",
    "    \n",
    "    return K"
   ]
  },
  {
   "cell_type": "markdown",
   "metadata": {},
   "source": [
    "### Main code\n",
    "#### Defines a 2-component Gaussian mixture density $p$, generates samples from $p$ and passes to the various gain approximation functions, that return the gain vectors. If exact flag is set, the exact gain is computed via numerical integration and is used to compute mean-squared error of each of the approximations.  \n",
    "Can change parameters like - no. of independent trials, no. of particles $N$, dimensionality of the system $d$ etc."
   ]
  },
  {
   "cell_type": "code",
   "execution_count": 211,
   "metadata": {
    "scrolled": true
   },
   "outputs": [
    {
     "name": "stdout",
     "output_type": "stream",
     "text": [
      "Run  99\n",
      "Time taken 0.12621148501057178\n",
      "Time taken 3.7339040210063104\n",
      "Time taken 0.30358680299832486\n",
      "Time taken 0.7502653900010046\n",
      "Time taken 0.565950365999015\n",
      "Time taken 0.3849644319998333\n",
      "Time taken 4.423167094995733\n",
      "\n",
      "\n",
      "MSE for Markov kernel approx 0.1948734742660684\n",
      "MSE for RKHS N 0.2731911014199458\n",
      "MSE for RKHS 2N 0.2858695081504124\n",
      "MSE for RKHS dN 0.2731909652888483\n",
      "MSE for RKHS OM 0.4198717766316415\n",
      "MSE for old Markov kernel 0.19906536015974208\n"
     ]
    },
    {
     "data": {
      "image/png": "[encoded data removed]",
      "text/plain": [
       "<Figure size 432x288 with 1 Axes>"
      ]
     },
     "metadata": {
      "needs_background": "light"
     },
     "output_type": "display_data"
    },
    {
     "data": {
      "image/png": "[encoded data removed]",
      "text/plain": [
       "<Figure size 432x288 with 2 Axes>"
      ]
     },
     "metadata": {
      "needs_background": "light"
     },
     "output_type": "display_data"
    }
   ],
   "source": [
    "if __name__ == '__main__':\n",
    "    \n",
    "    ## Flags to be set to choose which methods to compare\n",
    "    exact  = 1      # Computes the exact gain and plots \n",
    "    coif   = 1      # Computes gain using Coifman kernel method\n",
    "    rkhs_N = 1      # Computes gain using subspace of RKHS\n",
    "    rkhs_2N= 1      # Computes optimal gain using RKHS \n",
    "    rkhs_dN= 1      # Computes optimal gain using RKHS for any arbitrary dimension d\n",
    "    om     = 1      # Computes gain using RKHS enforcing constant gain constraint\n",
    "    memory = 0      # Computes gain using RKHS with a memory parameter for previous gain\n",
    "    om_mem = 0      # Computes gain using const gain approx and a memory parameter for previous gain\n",
    "    \n",
    "    coif_old = 1   # Computes old implementation of Coifman kernel approx. \n",
    "    const  = 0      # Computes the constant gain approximation\n",
    "\n",
    "    # Run parameters\n",
    "    No_runs = 100\n",
    "    \n",
    "    # FPF parameters - No. of particles\n",
    "    N = 200\n",
    "    \n",
    "    # System parameters\n",
    "    x = Symbol('x')\n",
    "    dim = 1     # dimension of the system\n",
    "    c = x       # Observation function\n",
    "    c_x = lambdify(x, c, 'numpy')\n",
    "        \n",
    "    # Parameters of the prior density p(0) - 2 component Gaussian mixture density\n",
    "    m = 2      # No of components in the Gaussian mixture\n",
    "    sigma = [0.4472, 0.4472]\n",
    "    mu  = [-1, 1]\n",
    "    w   = [0.5, 0.5]\n",
    "    w[-1] = 1 - sum(w[:-1])\n",
    "    p = 0\n",
    "    mu_eq = 0  # Equivalent mean of the density p\n",
    "    for m in range(len(w)):\n",
    "        p = p + w[m] * (1/ np.sqrt(2 * math.pi * sigma[m]**2))* exp(-(x - mu[m])**2/ (2* sigma[m]**2))\n",
    "    p_vec = lambdify(x, p, 'numpy')\n",
    "    \n",
    "    mse_coif = np.zeros(No_runs)\n",
    "    mse_rkhs_N = np.zeros(No_runs)\n",
    "    mse_rkhs_2N = np.zeros(No_runs)\n",
    "    mse_rkhs_dN = np.zeros(No_runs)\n",
    "    mse_om   = np.zeros(No_runs)\n",
    "    mse_coif_old = np.zeros(No_runs)\n",
    "    for run in range(No_runs):\n",
    "        clear_output()\n",
    "        print('Run ',run)\n",
    "        Xi  = get_samples(N, mu, sigma, w, dim)\n",
    "        if dim == 1:\n",
    "            Xi = np.sort(Xi,kind = 'mergesort')\n",
    "        C   = c_x(Xi)\n",
    "# To check consistency with Matlab code output - using the same samples \n",
    "#         Xi = np.loadtxt('Xi.txt')\n",
    "#         Xi = np.sort(Xi,kind = 'mergesort')\n",
    "#         Xi = np.reshape(Xi,(-1,1))\n",
    "#         plt.figure()\n",
    "#         sns.distplot(Xi)\n",
    "#         plt.show()\n",
    "\n",
    "        if exact == 1:\n",
    "            # c_hat = mu_eq   # True only for c = x, linear function          \n",
    "            # K_exact  = gain_exact(Xi, c, p)   # Manual numerical integration\n",
    "            K_exact =  np.zeros((N,dim))\n",
    "            K_exact[:,0] =  gain_num_integrate(Xi, c, p)  # Uses scipy.integrate function\n",
    "\n",
    "        if coif ==1:\n",
    "            eps_coif = 0.1\n",
    "            Phi = np.zeros(N)\n",
    "            No_iterations = 1000\n",
    "            K_coif = gain_coif(Xi, C, eps_coif, Phi, No_iterations, diag = 0)\n",
    "            if exact == 1:\n",
    "                mse_coif[run] = mean_squared_error(K_exact, K_coif, p)\n",
    "\n",
    "        if rkhs_N == 1:\n",
    "            eps_rkhs_N = 0.2\n",
    "            Lambda_rkhs_N = 1e-2\n",
    "            K_rkhs_N = gain_rkhs_N(Xi, C, eps_rkhs_N, Lambda_rkhs_N, diag = 0)\n",
    "            if exact == 1:\n",
    "                mse_rkhs_N[run] = mean_squared_error(K_exact, K_rkhs_N, p)\n",
    "\n",
    "        if rkhs_2N == 1:\n",
    "            eps_rkhs_2N = 0.2\n",
    "            Lambda_rkhs_2N = 1e-2\n",
    "            K_rkhs_2N = gain_rkhs_2N(Xi, C, eps_rkhs_2N, Lambda_rkhs_2N, diag = 0)\n",
    "            if exact == 1:\n",
    "                mse_rkhs_2N[run] = mean_squared_error(K_exact, K_rkhs_2N, p)\n",
    "                \n",
    "        if rkhs_dN == 1:\n",
    "            eps_rkhs_dN = 0.2\n",
    "            Lambda_rkhs_dN = 1e-2\n",
    "            K_rkhs_dN = gain_rkhs_dN(Xi, C, eps_rkhs_dN, Lambda_rkhs_dN, diag = 0)\n",
    "            if exact == 1:\n",
    "                mse_rkhs_dN[run] = mean_squared_error(K_exact, K_rkhs_dN, p)\n",
    "\n",
    "        if om == 1:\n",
    "            eps_om = 0.1\n",
    "            Lambda_om = 1e-3\n",
    "            K_om = gain_rkhs_om(Xi, C, eps_om, Lambda_om,  diag = 0)\n",
    "            if exact == 1:\n",
    "                mse_om[run] = mean_squared_error(K_exact, K_om, p)\n",
    "                \n",
    "        if coif_old == 1:\n",
    "            eps_coif_old = 0.1\n",
    "            No_iterations = 1000\n",
    "            Phi = np.zeros(N)\n",
    "            K_coif_old = gain_coif_old(Xi, C, eps_coif, Phi, No_iterations, diag = 0)\n",
    "            if exact == 1:\n",
    "                mse_coif_old[run] = mean_squared_error(K_exact, K_coif_old, p)\n",
    "         \n",
    "    print('\\n')\n",
    "    plt.figure()\n",
    "    if exact == 1 & coif == 1:\n",
    "        print('MSE for Markov kernel approx', np.mean(mse_coif))\n",
    "        sns.distplot(mse_coif,label='Coifman new')\n",
    "    if exact == 1 & rkhs_N == 1:\n",
    "        print('MSE for RKHS N', np.mean(mse_rkhs_N))\n",
    "        sns.distplot(mse_rkhs_N, label = 'RKHS N')\n",
    "    if exact == 1 & rkhs_2N == 1:\n",
    "        print('MSE for RKHS 2N', np.mean(mse_rkhs_2N))\n",
    "        sns.distplot(mse_rkhs_2N, label = 'RKHS 2N')\n",
    "    if exact == 1 & rkhs_dN == 1:\n",
    "        print('MSE for RKHS dN', np.mean(mse_rkhs_dN))\n",
    "        sns.distplot(mse_rkhs_dN, label = 'RKHS (d+1) N')\n",
    "    if exact == 1 & om == 1:\n",
    "        print('MSE for RKHS OM', np.mean(mse_om))\n",
    "        sns.distplot(mse_om, label = 'RKHS OM')\n",
    "    if exact == 1 & coif_old == 1:\n",
    "        print('MSE for old Markov kernel', np.mean(mse_coif_old))\n",
    "        sns.distplot(mse_coif_old, label = 'Coifman old')\n",
    "    plt.legend()\n",
    "    plt.show()\n",
    "    \n",
    "    ### Displaying the plots\n",
    "    marker_size  = 3\n",
    "    plt.rc('text', usetex=True)\n",
    "    fig,ax1 = plt.subplots()\n",
    "    if exact == 1:\n",
    "        ax1.plot(Xi, K_exact, 'b.', markersize = marker_size, label ='Exact gain')\n",
    "        # ax1.plot(Xi, K_num_int, 'k^', markersize = marker_size, label ='Num int. gain')\n",
    "    if rkhs_N == 1:\n",
    "        ax1.plot(Xi, K_rkhs_N, 'r.', markersize = marker_size, label = 'RKHS approx. N')\n",
    "    if rkhs_2N == 1:\n",
    "        ax1.plot(Xi, K_rkhs_2N, 'c.', markersize = marker_size, label = 'RKHS approx. 2N')\n",
    "    if rkhs_dN == 1:\n",
    "        ax1.plot(Xi, K_rkhs_dN, 'm.', markersize = marker_size, label = 'RKHS approx. dN')\n",
    "    if coif == 1:\n",
    "        ax1.plot(Xi, K_coif, 'g.', markersize = marker_size, label ='Markov kernel approx.')\n",
    "    if om == 1:\n",
    "        ax1.plot(Xi, K_om, 'm.', markersize = marker_size, label = 'RKHS OM')\n",
    "    if coif_old == 1:\n",
    "        ax1.plot(Xi, K_coif_old, 'y.', markersize = marker_size, label ='Old Markov kernel')\n",
    "    ax2 =ax1.twinx()\n",
    "    ax2.plot(np.arange(-2,2,0.01), p_vec(np.arange(-2,2,0.01)),'k.-', markersize =1, label = r'$\\rho(x)$')\n",
    "    ax2.set_ylabel(r'$\\rho(x)$')\n",
    "    ax2.legend(loc=1)\n",
    "    ax1.set_xlabel('Particle Locations')\n",
    "    ax1.set_ylabel('Gain $K(x)$')\n",
    "    ax1.legend()\n",
    "    plt.xticks(rotation = 45)\n",
    "    plt.tight_layout()\n",
    "    plt.show()     "
   ]
  },
  {
   "cell_type": "code",
   "execution_count": 29,
   "metadata": {},
   "outputs": [
    {
     "data": {
      "text/plain": [
       "array([0.07916645, 0.32487689, 0.10072835, 0.12048075, 0.136858  ,\n",
       "       0.08458429, 0.1679734 , 0.16627593, 0.3678916 , 0.06439458])"
      ]
     },
     "execution_count": 29,
     "metadata": {},
     "output_type": "execute_result"
    }
   ],
   "source": [
    "mse_rkhs_N"
   ]
  },
  {
   "cell_type": "code",
   "execution_count": 30,
   "metadata": {},
   "outputs": [
    {
     "data": {
      "text/plain": [
       "array([0.07916645, 0.32487673, 0.10072835, 0.12048064, 0.13685773,\n",
       "       0.08458431, 0.1679734 , 0.16627592, 0.36789003, 0.06439458])"
      ]
     },
     "execution_count": 30,
     "metadata": {},
     "output_type": "execute_result"
    }
   ],
   "source": [
    "mse_rkhs_2N"
   ]
  },
  {
   "cell_type": "code",
   "execution_count": 31,
   "metadata": {},
   "outputs": [
    {
     "data": {
      "text/plain": [
       "array([0.11053159, 0.22518212, 0.0459719 , 0.02009478, 0.08076254,\n",
       "       0.03637753, 0.08960131, 0.10959224, 0.19879075, 0.07571695])"
      ]
     },
     "execution_count": 31,
     "metadata": {},
     "output_type": "execute_result"
    }
   ],
   "source": [
    "mse_coif"
   ]
  },
  {
   "cell_type": "code",
   "execution_count": 32,
   "metadata": {},
   "outputs": [
    {
     "data": {
      "text/plain": [
       "array([0.07916645, 0.32487673, 0.10072835, 0.12048064, 0.13685773,\n",
       "       0.08458431, 0.1679734 , 0.16627592, 0.36789003, 0.06439458])"
      ]
     },
     "execution_count": 32,
     "metadata": {},
     "output_type": "execute_result"
    }
   ],
   "source": [
    "mse_rkhs_dN"
   ]
  },
  {
   "cell_type": "markdown",
   "metadata": {},
   "source": [
    "#### Plotting the histogram of the mse from the various trials"
   ]
  },
  {
   "cell_type": "markdown",
   "metadata": {},
   "source": [
    "#### Multi-dimensional example in section 5.1  - https://arxiv.org/pdf/1902.07263.pdf  \n",
    "\\begin{equation}\n",
    "\\rho(x) = \\rho_B(x_1) \\prod_{n=2}^d \\rho_G(x_n), \\qquad \\text{for } x = (x_1,x_2, \\cdots, x_d) \\in \\mathbb{R}^d \n",
    "\\end{equation}\n",
    "Here, $\\rho_B$ is $\\frac{1}{2} \\mathcal{N}(-1, \\sigma^2) + \\frac{1}{2}\\mathcal{N}(+1,\\sigma^2)$ is bimodal distribution  \n",
    "$\\rho_G$ is Gaussian distribution, $\\mathcal{N}(0,\\sigma^2)$  \n",
    "Observation function, $h(x) = x_1$  \n",
    "Exact gain function, $\\text{K}_{\\text{exact}}(x) = (\\text{K}_{\\text{exact}}(x_1), 0, \\cdots,0)$  "
   ]
  },
  {
   "cell_type": "code",
   "execution_count": 213,
   "metadata": {
    "scrolled": false
   },
   "outputs": [
    {
     "name": "stdout",
     "output_type": "stream",
     "text": [
      "Run  0\n",
      "Time taken 0.14343202199961524\n",
      "Time taken 3.913774058994022\n",
      "Time taken 0.4133417400007602\n",
      "Time taken 1.4129588349896949\n",
      "Time taken 0.5043058629962616\n",
      "\n",
      "\n",
      "MSE for Markov kernel approx 0.06834078035875313\n",
      "MSE for RKHS N 0.1319887438494378\n",
      "MSE for RKHS dN 0.13199220089177666\n",
      "MSE for RKHS OM 0.09194496805407804\n"
     ]
    },
    {
     "data": {
      "image/png": "[encoded data removed]",
      "text/plain": [
       "<Figure size 432x288 with 2 Axes>"
      ]
     },
     "metadata": {
      "needs_background": "light"
     },
     "output_type": "display_data"
    }
   ],
   "source": [
    "if __name__ == '__main__':\n",
    "    \n",
    "    ## Flags to be set to choose which methods to compare\n",
    "    exact  = 1      # Computes the exact gain and plots \n",
    "    coif   = 1      # Computes gain using Coifman kernel method\n",
    "    rkhs_N = 1      # Computes gain using subspace of RKHS\n",
    "    rkhs_dN= 1      # Computes optimal gain using RKHS \n",
    "    om     = 1      # Computes gain using RKHS enforcing constant gain constraint\n",
    "    memory = 0      # Computes gain using RKHS with a memory parameter for previous gain\n",
    "    om_mem = 0      # Computes gain using const gain approx and a memory parameter for previous gain\n",
    "    \n",
    "    coif_old = 0    # Computes old implementation of Coifman kernel approx. \n",
    "    const  = 0      # Computes the constant gain approximation\n",
    "    kalman = 0      # Runs Kalman Filter for comparison\n",
    "    sis    = 0      # Runs Sequential Importance Sampling Particle Filter \n",
    "\n",
    "    # Run parameters\n",
    "    No_runs = 1\n",
    "    \n",
    "    # FPF parameters - No. of particles\n",
    "    N = 200\n",
    "    \n",
    "    # System parameters\n",
    "    dim = 2     # dimension of the system\n",
    "    x = symbols('x0:%d'%dim)\n",
    "    c = x[0]       # Observation function\n",
    "    # c_x = lambdify(x, c, 'numpy')\n",
    "    c_x = lambdify(x[0], c, 'numpy')\n",
    "        \n",
    "    # Parameters of the prior density \\rho_B - 2 component Gaussian mixture density\n",
    "    m = 2      # No of components in the Gaussian mixture\n",
    "    sigma_b = [0.4472, 0.4472]   # Gives \\sigma^2 = 0.2\n",
    "    mu_b  = [-1, 1]\n",
    "    w_b   = [0.5, 0.5]\n",
    "    w_b[-1] = 1 - sum(w_b[:-1])\n",
    "    p_b = 0\n",
    "    for m in range(len(w_b)):\n",
    "        p_b = p_b + w_b[m] * (1/ np.sqrt(2 * math.pi * sigma_b[m]**2))* exp(-(x[0] - mu_b[m])**2/ (2* sigma_b[m]**2))\n",
    "    p_b_x = lambdify(x[0], p_b, 'numpy')\n",
    "    sigma = 0.4472  # Chosen so that \\sigma^2 = 0.2 as in the reference\n",
    "    p = p_b\n",
    "    for d in np.arange(1,dim):\n",
    "        p_g = exp(-x[d])**2/ (2 * sigma**2)\n",
    "        p*= p_g\n",
    "    \n",
    "    mse_coif = np.zeros(No_runs)\n",
    "    mse_rkhs_N = np.zeros(No_runs)\n",
    "    mse_rkhs_dN = np.zeros(No_runs)\n",
    "    mse_om   = np.zeros(No_runs)\n",
    "    mse_coif_old = np.zeros(No_runs)\n",
    "    for run in range(No_runs):\n",
    "        clear_output()\n",
    "        print('Run ',run)\n",
    "        Xi  = get_samples(N, mu_b, sigma_b, w_b, dim, sigma)\n",
    "        get_samples\n",
    "        if dim == 1:\n",
    "            Xi = np.sort(Xi,kind = 'mergesort')\n",
    "        C = np.reshape(c_x(Xi[:,0]),(len(Xi),1))\n",
    "        # C   = np.reshape(c_x(Xi[:,0],Xi[:,1]),(len(Xi),1))\n",
    "        \n",
    "        if exact == 1:\n",
    "         \n",
    "            K_exact = np.zeros((N, dim))\n",
    "            K_exact[:,0]  = gain_num_integrate(Xi, c, p_b)\n",
    "\n",
    "        if coif ==1:\n",
    "            eps_coif = 0.1\n",
    "            Phi = np.zeros(N)\n",
    "            K_coif = gain_coif(Xi, C, eps_coif, Phi, diag = 0)\n",
    "            if exact == 1:\n",
    "                mse_coif[run] = mean_squared_error(K_exact, K_coif, p)\n",
    "\n",
    "        if rkhs_N == 1:\n",
    "            eps_rkhs_N = 0.2\n",
    "            Lambda_rkhs_N = 1e-2\n",
    "            K_rkhs_N = gain_rkhs_N(Xi, C, eps_rkhs_N, Lambda_rkhs_N, diag = 0)\n",
    "            if exact == 1:\n",
    "                mse_rkhs_N[run] = mean_squared_error(K_exact, K_rkhs_N, p)\n",
    "\n",
    "        if rkhs_dN == 1:\n",
    "            eps_rkhs_dN = 0.2\n",
    "            Lambda_rkhs_dN = 1e-2\n",
    "            K_rkhs_dN = gain_rkhs_dN(Xi, C, eps_rkhs_dN, Lambda_rkhs_dN, diag = 0)\n",
    "            if exact == 1:\n",
    "                mse_rkhs_dN[run] = mean_squared_error(K_exact, K_rkhs_dN, p)\n",
    "\n",
    "        if om == 1:\n",
    "            eps_om = 0.2\n",
    "            Lambda_om = 1e-2\n",
    "            K_om = gain_rkhs_om(Xi, C, eps_om, Lambda_om, diag = 0)\n",
    "            if exact == 1:\n",
    "                mse_om[run] = mean_squared_error(K_exact, K_om, p)\n",
    "                \n",
    "        if coif_old == 1:\n",
    "            eps_coif_old = 0.1\n",
    "            Phi = np.zeros(N)\n",
    "            K_coif_old = gain_coif_old(Xi, C, eps_coif, Phi, diag = 0)\n",
    "            if exact == 1:\n",
    "                mse_coif_old[run] = mean_squared_error(K_exact, K_coif_old, p)\n",
    "         \n",
    "    print('\\n')\n",
    "    if exact == 1 & coif == 1:\n",
    "        print('MSE for Markov kernel approx', np.mean(mse_coif))\n",
    "    if exact == 1 & rkhs_N == 1:\n",
    "        print('MSE for RKHS N', np.mean(mse_rkhs_N))\n",
    "    if exact == 1 & rkhs_dN == 1:\n",
    "        print('MSE for RKHS dN', np.mean(mse_rkhs_dN))\n",
    "    if exact == 1 & om == 1:\n",
    "        print('MSE for RKHS OM', np.mean(mse_om))\n",
    "    if exact == 1 & coif_old == 1:\n",
    "        print('MSE for old Markov kernel', np.mean(mse_coif_old))\n",
    "    \n",
    "    ### Displaying the plots\n",
    "    marker_size  = 3\n",
    "    plt.rc('text', usetex=True)\n",
    "    fig,ax1 = plt.subplots()\n",
    "    if exact == 1:\n",
    "        ax1.plot(Xi, K_exact, 'bv', markersize = marker_size, label ='Exact gain')\n",
    "    if rkhs_N == 1:\n",
    "        ax1.plot(Xi, K_rkhs_N, 'r*', markersize = marker_size, label = 'RKHS approx. N')\n",
    "    if rkhs_dN == 1:\n",
    "        ax1.plot(Xi, K_rkhs_dN, 'cs', markersize = marker_size, label = 'RKHS approx. dN')\n",
    "    if coif == 1:\n",
    "        ax1.plot(Xi, K_coif, 'g.', markersize = marker_size, label ='Markov kernel approx.')\n",
    "    if om == 1:\n",
    "        ax1.plot(Xi, K_om, 'm*', markersize = marker_size, label = 'RKHS OM')\n",
    "    if coif_old == 1:\n",
    "        ax1.plot(Xi, K_coif_old, 'y.', markersize = marker_size, label ='Old Markov kernel')\n",
    "    ax2 =ax1.twinx()\n",
    "    ax2.plot(np.arange(-2,2,0.01), p_b_x(np.arange(-2,2,0.01)),'k.-', markersize =1, label = r'$\\rho(x)$')\n",
    "    ax2.set_ylabel(r'$\\rho(x)$')\n",
    "    ax2.legend(loc=1)\n",
    "    ax1.set_xlabel('Particle Locations')\n",
    "    ax1.set_ylabel('Gain $K(x)$')\n",
    "    ax1.legend()\n",
    "    plt.xticks(rotation = 45)\n",
    "    plt.tight_layout()\n",
    "    plt.show()     "
   ]
  },
  {
   "cell_type": "markdown",
   "metadata": {},
   "source": [
    "#### Plotting the histogram of the mse from the various trials"
   ]
  },
  {
   "cell_type": "code",
   "execution_count": null,
   "metadata": {},
   "outputs": [],
   "source": [
    "sns.distplot(mse_coif,label='Coifman')\n",
    "sns.distplot(mse_rkhs_N, label = 'RKHS N')\n",
    "sns.distplot(mse_coif_old, label = 'Coifman old')\n",
    "plt.legend()\n",
    "plt.show()"
   ]
  },
  {
   "cell_type": "markdown",
   "metadata": {},
   "source": [
    "### Rough trials"
   ]
  },
  {
   "cell_type": "code",
   "execution_count": null,
   "metadata": {},
   "outputs": [],
   "source": [
    "f = lambda x:  x * (0.498677850501791*exp(-3.125*(x + 1)**2) + 0.498677850501791*exp(-3.125*(x - 1)**2))"
   ]
  },
  {
   "cell_type": "code",
   "execution_count": null,
   "metadata": {},
   "outputs": [],
   "source": [
    "expf = lambda x:"
   ]
  },
  {
   "cell_type": "code",
   "execution_count": null,
   "metadata": {},
   "outputs": [],
   "source": [
    "cp"
   ]
  },
  {
   "cell_type": "code",
   "execution_count": null,
   "metadata": {},
   "outputs": [],
   "source": [
    "integrate.quad(expf, 0, 1)"
   ]
  },
  {
   "cell_type": "code",
   "execution_count": null,
   "metadata": {},
   "outputs": [],
   "source": [
    "integrate.quad(f,-np.inf,np.inf)"
   ]
  },
  {
   "cell_type": "code",
   "execution_count": null,
   "metadata": {},
   "outputs": [],
   "source": [
    "f2 = lambda x: c*p"
   ]
  },
  {
   "cell_type": "code",
   "execution_count": null,
   "metadata": {},
   "outputs": [],
   "source": [
    "cp_vec = lambdify(x, c, 'numpy')"
   ]
  },
  {
   "cell_type": "code",
   "execution_count": null,
   "metadata": {},
   "outputs": [],
   "source": [
    "np.mean(cp_vec(Xi))"
   ]
  },
  {
   "cell_type": "code",
   "execution_count": null,
   "metadata": {},
   "outputs": [],
   "source": [
    "f = lambda x: cp(c,p,x)"
   ]
  },
  {
   "cell_type": "code",
   "execution_count": null,
   "metadata": {},
   "outputs": [],
   "source": [
    "help(Symbol)"
   ]
  },
  {
   "cell_type": "code",
   "execution_count": null,
   "metadata": {},
   "outputs": [],
   "source": []
  }
 ],
 "metadata": {
  "kernelspec": {
   "display_name": "Python 3",
   "language": "python",
   "name": "python3"
  },
  "language_info": {
   "codemirror_mode": {
    "name": "ipython",
    "version": 3
   },
   "file_extension": ".py",
   "mimetype": "text/x-python",
   "name": "python",
   "nbconvert_exporter": "python",
   "pygments_lexer": "ipython3",
   "version": "3.7.1"
  }
 },
 "nbformat": 4,
 "nbformat_minor": 2
}
